{
 "cells": [
  {
   "cell_type": "markdown",
   "metadata": {},
   "source": [
    "# Computational Social Choice - Assignment 3\n",
    "Yorick Juffer - s1993623 \\\n",
    "Ioana Cojocaru - s5002117"
   ]
  },
  {
   "cell_type": "markdown",
   "metadata": {},
   "source": [
    "## Libraries"
   ]
  },
  {
   "cell_type": "code",
   "execution_count": 75,
   "metadata": {},
   "outputs": [],
   "source": [
    "import math\n",
    "import random\n",
    "import copy\n",
    "import csv\n",
    "import pandas as pd\n",
    "import matplotlib.pyplot as plt"
   ]
  },
  {
   "cell_type": "markdown",
   "metadata": {},
   "source": [
    "## Candidate List"
   ]
  },
  {
   "cell_type": "code",
   "execution_count": 76,
   "metadata": {},
   "outputs": [],
   "source": [
    "candidate = {\n",
    "    1: \"Jackie Kasabach\",\n",
    "    2: \"Jack Johnson\",\n",
    "    3: \"Adam Frisch\",\n",
    "    4: \"Torre\",\n",
    "    5: \"Michael Behrendt\",\n",
    "    6: \"Jason Lasser\",\n",
    "    7: \"Michael Wampler\",\n",
    "    8: \"Derek Johnson\",\n",
    "    9: \"Brian D. Speck\",\n",
    "    10: \"Write In 1\",\n",
    "    11: \"Write In 2\"\n",
    "}"
   ]
  },
  {
   "cell_type": "markdown",
   "metadata": {},
   "source": [
    "## Functions"
   ]
  },
  {
   "cell_type": "markdown",
   "metadata": {},
   "source": [
    "### Load Data\n",
    "- Loads the data.txt file. \n",
    "- The output profile is a list, of which each element contains a vote (profile[n][0]) and preferences (profile[n][1:]).\n",
    "- Each voters preferences are made unique so (profile[n][0]=1), so they can be easily manipulated. \n",
    "- If there is a tie ([1, 2]), both recieve a vote."
   ]
  },
  {
   "cell_type": "code",
   "execution_count": 77,
   "metadata": {},
   "outputs": [],
   "source": [
    "def load(path): \n",
    "    profile = []\n",
    "\n",
    "    with open(path, 'r') as file:\n",
    "        for line in file:\n",
    "            line = line.strip()\n",
    "\n",
    "            # for each line, split the votes and preferences\n",
    "            if line:\n",
    "                votes_str, preferences_str = line.split(':')\n",
    "                votes = int(votes_str)\n",
    "\n",
    "                for _ in range(votes):\n",
    "\n",
    "                    preferences = []\n",
    "                    tied_preferences = []\n",
    "                    tie = False\n",
    "\n",
    "                    # add the preferences to the profile\n",
    "                    # split the tied votes and add them as a list to the profile\n",
    "                    for pref in preferences_str.split(','):\n",
    "                        pref = pref.strip()\n",
    "\n",
    "                        if \"}\" in pref:\n",
    "                            pref = pref.replace('}', '')\n",
    "                            tied_preferences.append(int(pref))\n",
    "                            preferences.append(tied_preferences)\n",
    "                            tie = False\n",
    "\n",
    "                        elif \"{\" in pref or tie:\n",
    "                            pref = pref.replace('{', '')\n",
    "                            tied_preferences.append(int(pref))\n",
    "                            tie = True\n",
    "                        else:\n",
    "                            preferences.append(int(pref))\n",
    "\n",
    "                    # add the votes and preferences to the profile\n",
    "                    profile.append(preferences)\n",
    "\n",
    "    return profile\n",
    "\n",
    "# load data and convert\n",
    "file_path = 'data.txt'\n",
    "original_profile = load(file_path)\n",
    "profile_length = len(original_profile)"
   ]
  },
  {
   "cell_type": "markdown",
   "metadata": {},
   "source": [
    "### Single Transferable Vote\n",
    "- This function takes a profile and a list of candidates and returns the winner of the election using the STV social choice function. \n",
    "- The profile ranges alternatives from 1 to 11, but this function uses a 0-based index to represent the candidates."
   ]
  },
  {
   "cell_type": "code",
   "execution_count": 78,
   "metadata": {},
   "outputs": [],
   "source": [
    "def single_transferable_vote(profile, candidates, print_status=False):\n",
    "    eliminated_candidates = []\n",
    "\n",
    "    round = 0\n",
    "    while len(eliminated_candidates) < len(candidates):\n",
    "\n",
    "        # reset the round\n",
    "        round += 1\n",
    "        tally = [0] * len(candidates)\n",
    "        for index in eliminated_candidates:\n",
    "            tally[index] = None\n",
    "        lowest_votes = 0\n",
    "        eliminate = []\n",
    "\n",
    "        # tally the votes for each candidate\n",
    "        for pref in profile:\n",
    "\n",
    "            n = 0\n",
    "            # search for the candidate with the highest preference that has not been eliminated\n",
    "            searching = True\n",
    "            while searching:\n",
    "\n",
    "                # if the preference is a tie \n",
    "                if isinstance(pref[n], list):\n",
    "                    m = 0\n",
    "\n",
    "                    # for each tied preference, check if the candidate has been eliminated otherwise tally the votes\n",
    "                    for _ in pref[n]:\n",
    "\n",
    "                        if pref[n][m] - 1 not in eliminated_candidates:\n",
    "                            candidate = pref[n][m] - 1\n",
    "                            tally[candidate] += 1\n",
    "\n",
    "                        m += 1\n",
    "                        if m >= len(pref[n]):\n",
    "                            searching = False\n",
    "\n",
    "                # check if the candidate has been eliminated\n",
    "                elif pref[n] - 1 not in eliminated_candidates:\n",
    "                    candidate = pref[n] - 1\n",
    "                    tally[candidate] += 1\n",
    "                    searching = False\n",
    "\n",
    "                n += 1\n",
    "                if n >= len(pref):\n",
    "                    searching = False\n",
    "\n",
    "        # eliminate the candidate with the lowest votes\n",
    "        lowest_votes = min(value for value in tally if value is not None)\n",
    "        eliminate = [i for i, value in enumerate(tally) if value == lowest_votes]\n",
    "        eliminated_candidates.extend(eliminate)\n",
    "\n",
    "        # find the winner\n",
    "        highest_votes = max(value for value in tally if value is not None)\n",
    "        winner = [i for i, value in enumerate(tally) if value == highest_votes]\n",
    "\n",
    "        if print_status:\n",
    "            print(\"---ROUND {}---\".format(round))\n",
    "            print(\"Tally: {}\".format(tally))\n",
    "            print(\"Eliminated {}:\".format(eliminate))\n",
    "            print()\n",
    "\n",
    "    return winner, highest_votes"
   ]
  },
  {
   "cell_type": "markdown",
   "metadata": {},
   "source": [
    "### Manipulate Functions\n",
    "- Take in a P and output P'"
   ]
  },
  {
   "cell_type": "code",
   "execution_count": 79,
   "metadata": {},
   "outputs": [],
   "source": [
    "# Change target to the first position candidate of n voters.\n",
    "def targetfront_manipulate(profile, n, target):\n",
    "\n",
    "    rng = random.sample(range(0, len(profile)), n)\n",
    "\n",
    "    for index in rng:    \n",
    "        pref = profile[index]\n",
    "        for alt in pref:\n",
    "            if isinstance(alt, list):\n",
    "                if target in alt:\n",
    "                    alt.remove(target)\n",
    "                    pref.insert(0, target)\n",
    "                    profile[index] = pref\n",
    "            else:\n",
    "                if target in pref:\n",
    "                    pref.remove(target)\n",
    "                    pref.insert(0, target)\n",
    "                    profile[index] = pref\n",
    "    return profile\n",
    "\n",
    "# Change target to the last position candidate of n voters.\n",
    "def targetback_manipulate(profile, n, target):\n",
    "\n",
    "    rng = random.sample(range(0, len(profile)), n)\n",
    "\n",
    "    for index in rng:    \n",
    "        pref = profile[index]\n",
    "        for alt in pref:\n",
    "            if isinstance(alt, list):\n",
    "                if target in alt:\n",
    "                    alt.remove(target)\n",
    "                    pref.insert(len(profile), target)\n",
    "                    profile[index] = pref\n",
    "            else:\n",
    "                if target in pref:\n",
    "                    pref.remove(target)\n",
    "                    pref.insert(len(profile), target)\n",
    "                    profile[index] = pref\n",
    "\n",
    "    return profile\n",
    "\n",
    "# Randomly shuffle the preferences of n voters.\n",
    "def random_manipulate(profile, n):\n",
    "     \n",
    "    rng = random.sample(range(0, len(profile)), n)\n",
    "\n",
    "    for index in rng:\n",
    "        pref = profile[index]\n",
    "        random.shuffle(pref)\n",
    "        profile[index] = pref\n",
    "\n",
    "    return profile"
   ]
  },
  {
   "cell_type": "markdown",
   "metadata": {},
   "source": [
    "## Results\n",
    "0 indexed\n",
    "- 0: \"Jackie Kasabach\",\n",
    "- 1: \"Jack Johnson\",\n",
    "- 2: \"Adam Frisch\",\n",
    "- 3: \"Torre\",\n",
    "- 4: \"Michael Behrendt\",\n",
    "- 5: \"Jason Lasser\",\n",
    "- 6: \"Michael Wampler\",\n",
    "- 7: \"Derek Johnson\",\n",
    "- 8: \"Brian D. Speck\",\n",
    "- 9: \"Write In 1\",\n",
    "- 10: \"Write In 2\""
   ]
  },
  {
   "cell_type": "code",
   "execution_count": 80,
   "metadata": {},
   "outputs": [
    {
     "name": "stdout",
     "output_type": "stream",
     "text": [
      "---ROUND 1---\n",
      "Tally: [247, 456, 415, 385, 352, 27, 94, 463, 38, 0, 0]\n",
      "Eliminated [9, 10]:\n",
      "\n",
      "---ROUND 2---\n",
      "Tally: [247, 456, 415, 385, 352, 27, 94, 463, 38, None, None]\n",
      "Eliminated [5]:\n",
      "\n",
      "---ROUND 3---\n",
      "Tally: [247, 460, 416, 394, 355, None, 96, 466, 41, None, None]\n",
      "Eliminated [8]:\n",
      "\n",
      "---ROUND 4---\n",
      "Tally: [253, 464, 422, 396, 365, None, 100, 474, None, None, None]\n",
      "Eliminated [6]:\n",
      "\n",
      "---ROUND 5---\n",
      "Tally: [259, 478, 433, 416, 383, None, None, 494, None, None, None]\n",
      "Eliminated [0]:\n",
      "\n",
      "---ROUND 6---\n",
      "Tally: [None, 535, 467, 458, 445, None, None, 547, None, None, None]\n",
      "Eliminated [4]:\n",
      "\n",
      "---ROUND 7---\n",
      "Tally: [None, 620, 557, 552, None, None, None, 671, None, None, None]\n",
      "Eliminated [3]:\n",
      "\n",
      "---ROUND 8---\n",
      "Tally: [None, 801, 672, None, None, None, None, 815, None, None, None]\n",
      "Eliminated [2]:\n",
      "\n",
      "---ROUND 9---\n",
      "Tally: [None, 908, None, None, None, None, None, 1227, None, None, None]\n",
      "Eliminated [1]:\n",
      "\n",
      "---ROUND 10---\n",
      "Tally: [None, None, None, None, None, None, None, 1685, None, None, None]\n",
      "Eliminated [7]:\n",
      "\n",
      "Derek Johnson wins with 1685 votes! \n",
      "\n"
     ]
    }
   ],
   "source": [
    "profile_length = len(original_profile)\n",
    "\n",
    "# FIND THE WINNER\n",
    "original_results = single_transferable_vote(original_profile, candidate, print_status=True)\n",
    "for result in original_results[0]:\n",
    "    print(\"{} wins with {} votes! \\n\".format(candidate[result + 1], original_results[1]))"
   ]
  },
  {
   "cell_type": "markdown",
   "metadata": {},
   "source": [
    "## Grid Search to Find P'"
   ]
  },
  {
   "cell_type": "code",
   "execution_count": 7,
   "metadata": {},
   "outputs": [],
   "source": [
    "# run the impact of random manipulations across parameters\n",
    "def random_grid(profile, original_results, n, i):\n",
    "        \n",
    "    results = []\n",
    "    n_smallest = n\n",
    "    profile_smallest = None\n",
    "\n",
    "    while n > 0:\n",
    "        print(\"SEARCHING: n = {}, i = {}, \".format(n, i))\n",
    "        for _ in range(i):\n",
    "            x = copy.deepcopy(profile)\n",
    "            manipulated_profile = random_manipulate(x, n)\n",
    "            output = single_transferable_vote(manipulated_profile, candidate)\n",
    "            results.append([original_results[0] == output[0], n, i])\n",
    "\n",
    "            if not original_results[0] == output[0]:\n",
    "                if n < n_smallest:\n",
    "                        n_smallest = n\n",
    "                        profile_smallest = copy.deepcopy(manipulated_profile)\n",
    "        n -= 1\n",
    "    return results, profile_smallest, n_smallest\n",
    "\n",
    "# run the impact of target manipulations across parameters\n",
    "def targetfront_grid(profile, original_results, n, i):\n",
    "\n",
    "    results = []\n",
    "    n_saved = n\n",
    "    n_smallest = n\n",
    "    target_best = None\n",
    "    profile_smallest = None\n",
    "\n",
    "    for target in range(len(candidate)): \n",
    "        n = n_saved\n",
    "        while n > 0:\n",
    "            print(\"SEARCHING: n = {}, i = {}, target = {}, \".format(n, i, target+1))\n",
    "            for _ in range(i):\n",
    "                x = copy.deepcopy(profile)\n",
    "                manipulated_profile = targetfront_manipulate(x, n, target+1)\n",
    "                output = single_transferable_vote(manipulated_profile, candidate)\n",
    "                results.append([original_results[0] == output[0], n, i, target+1])\n",
    "\n",
    "                if not original_results[0] == output[0]:\n",
    "                    if n < n_smallest:\n",
    "                        n_smallest = n\n",
    "                        target_best = target\n",
    "                        profile_smallest = copy.deepcopy(manipulated_profile)\n",
    "            n -= 1\n",
    "        \n",
    "    return results, profile_smallest, n_smallest, target_best\n",
    "\n",
    "# run the impact of target manipulations across parameters\n",
    "def targetback_grid(profile, original_results, n, i):\n",
    "\n",
    "    results = []\n",
    "    n_saved = n\n",
    "    n_smallest = n\n",
    "    target_best = None\n",
    "    profile_smallest = None\n",
    "\n",
    "    for target in range(len(candidate)): \n",
    "        n = n_saved \n",
    "        while n > 0:\n",
    "            print(\"SEARCHING: n = {}, i = {}, target = {}, \".format(n, i, target+1))\n",
    "            for _ in range(i):\n",
    "                x = copy.deepcopy(profile)\n",
    "                manipulated_profile = targetback_manipulate(x, n, target+1)\n",
    "                output = single_transferable_vote(manipulated_profile, candidate)\n",
    "                results.append([original_results[0] == output[0], n, i, target+1])\n",
    "\n",
    "                if not original_results[0] == output[0]:\n",
    "                    if n < n_smallest:\n",
    "                        n_smallest = n\n",
    "                        target_best = target\n",
    "                        profile_smallest = copy.deepcopy(manipulated_profile)\n",
    "            n -= 1\n",
    "            \n",
    "    return results, profile_smallest, n_smallest, target_best"
   ]
  },
  {
   "cell_type": "markdown",
   "metadata": {},
   "source": [
    "## Binary Search to Find P'\n",
    "- Will search for P != P' between n_max and n_min.\n",
    "- Updates n by taking the mid point between n_max and n_min."
   ]
  },
  {
   "cell_type": "code",
   "execution_count": 8,
   "metadata": {},
   "outputs": [],
   "source": [
    "# run the impact of random manipulations across parameters\n",
    "def random_binary(profile, original_results, n, i):\n",
    "        \n",
    "    results = []\n",
    "    n_min = 0\n",
    "    n_max = n\n",
    "    n_smallest = n\n",
    "    profile_smallest = None\n",
    "\n",
    "    while abs(n_max - n_min) > 1:\n",
    "\n",
    "        print(\"SEARCHING: n = {}, n_max = {}, n_min = {}, i = {}, \".format(n, n_max, n_min, i))\n",
    "        found = False\n",
    "\n",
    "        for _ in range(i):\n",
    "            x = copy.deepcopy(profile)\n",
    "            manipulated_profile = random_manipulate(x, n)\n",
    "            output = single_transferable_vote(manipulated_profile, candidate)\n",
    "            results.append([original_results[0] == output[0], n, i])\n",
    "\n",
    "            if not original_results[0] == output[0]:\n",
    "                if n < n_smallest:\n",
    "                    profile_smallest = copy.deepcopy(manipulated_profile)\n",
    "                    n_smallest = n\n",
    "                found = True\n",
    "\n",
    "        if found:\n",
    "            n_max = n\n",
    "            n = round(n_max - (n_max - n_min)/2)\n",
    "        else:\n",
    "            n_min = n\n",
    "            n = round(n_min + (n_max - n_min)/2)\n",
    " \n",
    "    return results, profile_smallest, n_smallest\n",
    "\n",
    "# run the impact of target manipulations across parameters\n",
    "def targetfront_binary(profile, original_results, n, i):\n",
    "\n",
    "    results = []\n",
    "    n_saved = n\n",
    "    n_smallest = n\n",
    "    target_best = None\n",
    "    profile_smallest = None\n",
    "    \n",
    "    for target in range(len(candidate)): \n",
    "\n",
    "        n = n_saved\n",
    "        n_max = n_saved\n",
    "        n_min = 0\n",
    "\n",
    "        while abs(n_max - n_min) > 1:\n",
    "\n",
    "            print(\"SEARCHING: n = {}, n_max = {}, n_min = {}, i = {}, target = {}, \".format(n, n_max, n_min, i, target))\n",
    "            found = False\n",
    "\n",
    "            for _ in range(i):\n",
    "                x = copy.deepcopy(profile)\n",
    "                manipulated_profile = targetfront_manipulate(x, n, target+1)\n",
    "                output = single_transferable_vote(manipulated_profile, candidate)\n",
    "                results.append([original_results[0] == output[0], n, i, target+1])\n",
    "\n",
    "                if not original_results[0] == output[0]:\n",
    "                    if n < n_smallest:\n",
    "                        n_smallest = n\n",
    "                        target_best = target\n",
    "                        profile_smallest = copy.deepcopy(manipulated_profile)\n",
    "                    found = True\n",
    "\n",
    "            if found:\n",
    "                n_max = n\n",
    "                n = round(n_max - (n_max - n_min)/2)\n",
    "            else:\n",
    "                n_min = n\n",
    "                n = round(n_min + (n_max - n_min)/2)\n",
    "            \n",
    "    return results, profile_smallest, n_smallest, target_best\n",
    "\n",
    "# run the impact of target manipulations across parameters\n",
    "def targetback_binary(profile, original_results, n, i):\n",
    "\n",
    "    results = []\n",
    "    n_saved = n\n",
    "    n_smallest = n\n",
    "    target_best = None\n",
    "    profile_smallest = None\n",
    "    \n",
    "    for target in range(len(candidate)): \n",
    "\n",
    "        n = n_saved\n",
    "        n_max = n_saved\n",
    "        n_min = 0\n",
    "\n",
    "        while abs(n_max - n_min) > 1:\n",
    "\n",
    "            print(\"SEARCHING: n = {}, n_max = {}, n_min = {}, i = {}, target = {}, \".format(n, n_max, n_min, i, target))\n",
    "            found = False\n",
    "\n",
    "            for _ in range(i):\n",
    "                x = copy.deepcopy(profile)\n",
    "                manipulated_profile = targetback_manipulate(x, n, target+1)\n",
    "                output = single_transferable_vote(manipulated_profile, candidate)\n",
    "                results.append([original_results[0] == output[0], n, i, target+1])\n",
    "\n",
    "                if not original_results[0] == output[0]:\n",
    "                    if n < n_smallest:\n",
    "                        n_smallest = n\n",
    "                        target_best = target\n",
    "                        profile_smallest = copy.deepcopy(manipulated_profile)\n",
    "                    found = True\n",
    "            \n",
    "            if found:\n",
    "                n_max = n\n",
    "                n = round(n_max - (n_max - n_min)/2)\n",
    "            else:\n",
    "                n_min = n\n",
    "                n = round(n_min + (n_max - n_min)/2)\n",
    "               \n",
    "    return results, profile_smallest, n_smallest, target_best\n",
    "\n",
    "def targetfront_binary_specific(profile, original_results, n, i, target):\n",
    "\n",
    "    results = []\n",
    "    n_saved = n\n",
    "    n_smallest = n\n",
    "    target_best = None\n",
    "    profile_smallest = None\n",
    "    \n",
    "    n = n_saved\n",
    "    n_max = n_saved\n",
    "    n_min = 0\n",
    "\n",
    "    while abs(n_max - n_min) > 1:\n",
    "\n",
    "        print(\"SEARCHING: n = {}, n_max = {}, n_min = {}, i = {}, target = {}, \".format(n, n_max, n_min, i, target))\n",
    "        found = False\n",
    "\n",
    "        for _ in range(i):\n",
    "            x = copy.deepcopy(profile)\n",
    "            manipulated_profile = targetfront_manipulate(x, n, target+1)\n",
    "            output = single_transferable_vote(manipulated_profile, candidate)\n",
    "            results.append([original_results[0] == output[0], n, i, target+1])\n",
    "\n",
    "            if not original_results[0] == output[0]:\n",
    "                if n < n_smallest:\n",
    "                    n_smallest = n\n",
    "                    target_best = target\n",
    "                    profile_smallest = copy.deepcopy(manipulated_profile)\n",
    "                found = True\n",
    "\n",
    "        if found:\n",
    "            n_max = n\n",
    "            n = round(n_max - (n_max - n_min)/2)\n",
    "        else:\n",
    "            n_min = n\n",
    "            n = round(n_min + (n_max - n_min)/2)\n",
    "            \n",
    "    return results, profile_smallest, n_smallest, target_best"
   ]
  },
  {
   "cell_type": "markdown",
   "metadata": {},
   "source": [
    "## Analysis"
   ]
  },
  {
   "cell_type": "markdown",
   "metadata": {},
   "source": [
    "### RANDOM GRID SEARCH\n",
    "- Search across all values of n. \n",
    "- Adjust i to change the number of iterations for each value of n. \n",
    "- Takes a long time to run. "
   ]
  },
  {
   "cell_type": "code",
   "execution_count": null,
   "metadata": {},
   "outputs": [],
   "source": [
    "n = profile_length\n",
    "i = 10\n",
    "\n",
    "results_random_grid, profile_random_grid, n_random_grid = random_grid(original_profile, original_results, n, i)\n",
    "csv_file_path = 'results_random_grid.csv'\n",
    "\n",
    "# # Write the results to the CSV file\n",
    "with open(csv_file_path, 'w', newline='') as file:\n",
    "    writer = csv.writer(file)\n",
    "    writer.writerow(['match', 'n', 'i'])\n",
    "    writer.writerows(results_random_grid)\n",
    "\n",
    "print(\"Results saved to {}\".format(csv_file_path))"
   ]
  },
  {
   "cell_type": "code",
   "execution_count": null,
   "metadata": {},
   "outputs": [],
   "source": [
    "print(\"P': SMALLEST n = {}\\n\".format(n_random_grid))\n",
    "\n",
    "# Test the profile\n",
    "election_random_grid = single_transferable_vote(profile_random_grid, candidate, print_status=True)\n",
    "for result in election_random_grid[0]:\n",
    "    print(\"{} wins with {} votes! \\n\".format(candidate[result + 1], election_random_grid[1]))"
   ]
  },
  {
   "cell_type": "code",
   "execution_count": 34,
   "metadata": {},
   "outputs": [
    {
     "data": {
      "image/png": "[encoded data removed]",
      "text/plain": [
       "<Figure size 640x480 with 1 Axes>"
      ]
     },
     "metadata": {},
     "output_type": "display_data"
    },
    {
     "data": {
      "image/png": "[encoded data removed]",
      "text/plain": [
       "<Figure size 640x480 with 1 Axes>"
      ]
     },
     "metadata": {},
     "output_type": "display_data"
    }
   ],
   "source": [
    "# DARW PLOTS\n",
    "df = pd.read_csv('results_random_grid.csv')\n",
    "\n",
    "proportions = df.groupby('n')['match'].mean()\n",
    "proportions.plot(kind='line')\n",
    "plt.xlabel('Manipulators (n)')\n",
    "plt.ylabel(\"Ratio (P/P')\")\n",
    "plt.ylim(-0.01, 1.01)\n",
    "plt.show()\n",
    "\n",
    "smoothed_proportions = proportions.rolling(window=100, min_periods=1).mean()\n",
    "smoothed_proportions.plot(kind='line')\n",
    "plt.xlabel('Manipulators (n)')\n",
    "plt.ylabel(\"Ratio (P/P')\")\n",
    "plt.ylim(-0.01, 1.01)\n",
    "plt.title('Smoothed')\n",
    "plt.show()"
   ]
  },
  {
   "cell_type": "markdown",
   "metadata": {},
   "source": [
    "### RANDOM BINARY SEARCH\n",
    "- Does a binary search for the smallest value of n that changes the result of the election.\n",
    "- Adjust i to change the number of iterations for each value of n. \n",
    "- Much faster the run. "
   ]
  },
  {
   "cell_type": "code",
   "execution_count": null,
   "metadata": {},
   "outputs": [],
   "source": [
    "n = profile_length\n",
    "i = 100\n",
    "\n",
    "results_random_binary, profile_random_binary, n_random_binary = random_binary(original_profile, original_results, n, i)\n",
    "csv_file_path = 'results_random_binary.csv'\n",
    "\n",
    "# # Write the results to the CSV file\n",
    "with open(csv_file_path, 'w', newline='') as file:\n",
    "    writer = csv.writer(file)\n",
    "    writer.writerow(['match', 'n', 'i'])\n",
    "    writer.writerows(results_random_binary)\n",
    "\n",
    "print(\"Results saved to {}\".format(csv_file_path))"
   ]
  },
  {
   "cell_type": "code",
   "execution_count": null,
   "metadata": {},
   "outputs": [],
   "source": [
    "print(\"P': SMALLEST n = {}\\n\".format(n_random_binary))\n",
    "\n",
    "# Test the profile\n",
    "election_random_binary = single_transferable_vote(profile_random_binary, candidate, print_status=True)\n",
    "for result in election_random_binary[0]:\n",
    "    print(\"{} wins with {} votes! \\n\".format(candidate[result + 1], election_random_binary[1]))"
   ]
  },
  {
   "cell_type": "code",
   "execution_count": 35,
   "metadata": {},
   "outputs": [
    {
     "data": {
      "image/png": "[encoded data removed]",
      "text/plain": [
       "<Figure size 640x480 with 1 Axes>"
      ]
     },
     "metadata": {},
     "output_type": "display_data"
    }
   ],
   "source": [
    "df = pd.read_csv('results_random_binary.csv')\n",
    "\n",
    "proportions = df.groupby('n')['match'].mean()\n",
    "proportions.plot(kind='line')\n",
    "plt.xlabel('Manipulators (n)')\n",
    "plt.ylabel(\"Proportion (P = P')\")\n",
    "plt.ylim(-0.01, 1.01)\n",
    "plt.show()"
   ]
  },
  {
   "cell_type": "markdown",
   "metadata": {},
   "source": [
    "### TARGETFRONT GRID SEARCH\n",
    "- Places the target candidate to the first place position of n randomly chosen voters. \n",
    "- Search across all values of n. \n",
    "- Adjust i to change the number of iterations for each value of n. \n",
    "- Takes a long time to run. "
   ]
  },
  {
   "cell_type": "code",
   "execution_count": null,
   "metadata": {},
   "outputs": [],
   "source": [
    "n = profile_length\n",
    "i = 3\n",
    "\n",
    "results_targetfront_grid, profile_targetfront_grid, n_targetfront_grid  = targetfront_grid(original_profile, original_results, n, i)\n",
    "csv_file_path = 'results_targetfront_grid.csv'\n",
    "\n",
    "# # Write the results to the CSV file\n",
    "with open(csv_file_path, 'w', newline='') as file:\n",
    "    writer = csv.writer(file)\n",
    "    writer.writerow(['match', 'n', 'i', 'target'])\n",
    "    writer.writerows(results_targetfront_grid)\n",
    "\n",
    "print(\"Results saved to {}\".format(csv_file_path))"
   ]
  },
  {
   "cell_type": "code",
   "execution_count": null,
   "metadata": {},
   "outputs": [],
   "source": [
    "print(\"P': SMALLEST n = {}\\n\".format(n_targetfront_grid))\n",
    "\n",
    "# Test the profile\n",
    "election_targetfront_grid = single_transferable_vote(profile_targetfront_grid, candidate, print_status=True)\n",
    "for result in election_targetfront_grid[0]:\n",
    "    print(\"{} wins with {} votes! \\n\".format(candidate[result + 1], election_targetfront_grid[1]))"
   ]
  },
  {
   "cell_type": "code",
   "execution_count": null,
   "metadata": {},
   "outputs": [],
   "source": [
    "df = pd.read_csv('results_targetfront_grid.csv')\n",
    "\n",
    "proportions = df.groupby(['n', 'target'])['match'].mean().unstack()\n",
    "\n",
    "# Plot a line for each 'target'\n",
    "for target in proportions.columns:\n",
    "    plt.plot(proportions.index, proportions[target], label=f'Target {target}')\n",
    "\n",
    "# Add labels and legend\n",
    "plt.xlabel('Manipulators (n)')\n",
    "plt.ylabel(\"Ratio (P/P')\")\n",
    "plt.ylim(-0.01, 1.01)\n",
    "plt.show()\n",
    "\n",
    "# Show the plot\n",
    "plt.show()\n",
    "\n",
    "smoothed_proportions = proportions.rolling(window=100, min_periods=1).mean()\n",
    "smoothed_proportions.plot(kind='line')\n",
    "plt.xlabel('Manipulators (n)')\n",
    "plt.ylabel(\"Ratio (P/P')\")\n",
    "plt.ylim(-0.01, 1.01)\n",
    "plt.title('Smoothed')\n",
    "plt.show()"
   ]
  },
  {
   "cell_type": "markdown",
   "metadata": {},
   "source": [
    "### TARGETFRONT BINARY SEARCH\n",
    "- Places the target candidate to the first place position of n randomly chosen voters. \n",
    "- Does a binary search for smallest value of n that changes the result.  \n",
    "- Adjust i to change the number of iterations for each value of n. \n",
    "- Much faster to run. "
   ]
  },
  {
   "cell_type": "code",
   "execution_count": 30,
   "metadata": {},
   "outputs": [
    {
     "name": "stdout",
     "output_type": "stream",
     "text": [
      "SEARCHING: n = 2477, n_max = 2477, n_min = 0, i = 100, target = 0, \n",
      "SEARCHING: n = 1238, n_max = 2477, n_min = 0, i = 100, target = 0, \n",
      "SEARCHING: n = 619, n_max = 1238, n_min = 0, i = 100, target = 0, \n",
      "SEARCHING: n = 310, n_max = 619, n_min = 0, i = 100, target = 0, \n",
      "SEARCHING: n = 464, n_max = 619, n_min = 310, i = 100, target = 0, \n",
      "SEARCHING: n = 542, n_max = 619, n_min = 464, i = 100, target = 0, \n",
      "SEARCHING: n = 580, n_max = 619, n_min = 542, i = 100, target = 0, \n",
      "SEARCHING: n = 600, n_max = 619, n_min = 580, i = 100, target = 0, \n",
      "SEARCHING: n = 610, n_max = 619, n_min = 600, i = 100, target = 0, \n",
      "SEARCHING: n = 605, n_max = 610, n_min = 600, i = 100, target = 0, \n",
      "SEARCHING: n = 608, n_max = 610, n_min = 605, i = 100, target = 0, \n",
      "SEARCHING: n = 606, n_max = 608, n_min = 605, i = 100, target = 0, \n",
      "SEARCHING: n = 607, n_max = 608, n_min = 606, i = 100, target = 0, \n",
      "SEARCHING: n = 2477, n_max = 2477, n_min = 0, i = 100, target = 1, \n",
      "SEARCHING: n = 1238, n_max = 2477, n_min = 0, i = 100, target = 1, \n",
      "SEARCHING: n = 619, n_max = 1238, n_min = 0, i = 100, target = 1, \n",
      "SEARCHING: n = 310, n_max = 619, n_min = 0, i = 100, target = 1, \n",
      "SEARCHING: n = 464, n_max = 619, n_min = 310, i = 100, target = 1, \n",
      "SEARCHING: n = 542, n_max = 619, n_min = 464, i = 100, target = 1, \n",
      "SEARCHING: n = 503, n_max = 542, n_min = 464, i = 100, target = 1, \n",
      "SEARCHING: n = 522, n_max = 542, n_min = 503, i = 100, target = 1, \n",
      "SEARCHING: n = 532, n_max = 542, n_min = 522, i = 100, target = 1, \n",
      "SEARCHING: n = 537, n_max = 542, n_min = 532, i = 100, target = 1, \n",
      "SEARCHING: n = 534, n_max = 537, n_min = 532, i = 100, target = 1, \n",
      "SEARCHING: n = 533, n_max = 534, n_min = 532, i = 100, target = 1, \n",
      "SEARCHING: n = 2477, n_max = 2477, n_min = 0, i = 100, target = 2, \n",
      "SEARCHING: n = 1238, n_max = 2477, n_min = 0, i = 100, target = 2, \n",
      "SEARCHING: n = 619, n_max = 1238, n_min = 0, i = 100, target = 2, \n",
      "SEARCHING: n = 310, n_max = 619, n_min = 0, i = 100, target = 2, \n",
      "SEARCHING: n = 155, n_max = 310, n_min = 0, i = 100, target = 2, \n",
      "SEARCHING: n = 232, n_max = 310, n_min = 155, i = 100, target = 2, \n",
      "SEARCHING: n = 194, n_max = 232, n_min = 155, i = 100, target = 2, \n",
      "SEARCHING: n = 213, n_max = 232, n_min = 194, i = 100, target = 2, \n",
      "SEARCHING: n = 204, n_max = 213, n_min = 194, i = 100, target = 2, \n",
      "SEARCHING: n = 208, n_max = 213, n_min = 204, i = 100, target = 2, \n",
      "SEARCHING: n = 206, n_max = 208, n_min = 204, i = 100, target = 2, \n",
      "SEARCHING: n = 205, n_max = 206, n_min = 204, i = 100, target = 2, \n",
      "SEARCHING: n = 2477, n_max = 2477, n_min = 0, i = 100, target = 3, \n",
      "SEARCHING: n = 1238, n_max = 2477, n_min = 0, i = 100, target = 3, \n",
      "SEARCHING: n = 619, n_max = 1238, n_min = 0, i = 100, target = 3, \n",
      "SEARCHING: n = 310, n_max = 619, n_min = 0, i = 100, target = 3, \n",
      "SEARCHING: n = 155, n_max = 310, n_min = 0, i = 100, target = 3, \n",
      "SEARCHING: n = 78, n_max = 155, n_min = 0, i = 100, target = 3, \n",
      "SEARCHING: n = 116, n_max = 155, n_min = 78, i = 100, target = 3, \n",
      "SEARCHING: n = 136, n_max = 155, n_min = 116, i = 100, target = 3, \n",
      "SEARCHING: n = 146, n_max = 155, n_min = 136, i = 100, target = 3, \n",
      "SEARCHING: n = 141, n_max = 146, n_min = 136, i = 100, target = 3, \n",
      "SEARCHING: n = 138, n_max = 141, n_min = 136, i = 100, target = 3, \n",
      "SEARCHING: n = 137, n_max = 138, n_min = 136, i = 100, target = 3, \n",
      "SEARCHING: n = 2477, n_max = 2477, n_min = 0, i = 100, target = 4, \n",
      "SEARCHING: n = 1238, n_max = 2477, n_min = 0, i = 100, target = 4, \n",
      "SEARCHING: n = 619, n_max = 1238, n_min = 0, i = 100, target = 4, \n",
      "SEARCHING: n = 310, n_max = 619, n_min = 0, i = 100, target = 4, \n",
      "SEARCHING: n = 155, n_max = 310, n_min = 0, i = 100, target = 4, \n",
      "SEARCHING: n = 78, n_max = 155, n_min = 0, i = 100, target = 4, \n",
      "SEARCHING: n = 116, n_max = 155, n_min = 78, i = 100, target = 4, \n",
      "SEARCHING: n = 97, n_max = 116, n_min = 78, i = 100, target = 4, \n",
      "SEARCHING: n = 88, n_max = 97, n_min = 78, i = 100, target = 4, \n",
      "SEARCHING: n = 92, n_max = 97, n_min = 88, i = 100, target = 4, \n",
      "SEARCHING: n = 94, n_max = 97, n_min = 92, i = 100, target = 4, \n",
      "SEARCHING: n = 96, n_max = 97, n_min = 94, i = 100, target = 4, \n",
      "SEARCHING: n = 2477, n_max = 2477, n_min = 0, i = 100, target = 5, \n",
      "SEARCHING: n = 1238, n_max = 2477, n_min = 0, i = 100, target = 5, \n",
      "SEARCHING: n = 1858, n_max = 2477, n_min = 1238, i = 100, target = 5, \n",
      "SEARCHING: n = 2168, n_max = 2477, n_min = 1858, i = 100, target = 5, \n",
      "SEARCHING: n = 2013, n_max = 2168, n_min = 1858, i = 100, target = 5, \n",
      "SEARCHING: n = 1936, n_max = 2013, n_min = 1858, i = 100, target = 5, \n",
      "SEARCHING: n = 1974, n_max = 2013, n_min = 1936, i = 100, target = 5, \n",
      "SEARCHING: n = 1994, n_max = 2013, n_min = 1974, i = 100, target = 5, \n",
      "SEARCHING: n = 1984, n_max = 1994, n_min = 1974, i = 100, target = 5, \n",
      "SEARCHING: n = 1989, n_max = 1994, n_min = 1984, i = 100, target = 5, \n",
      "SEARCHING: n = 1986, n_max = 1989, n_min = 1984, i = 100, target = 5, \n",
      "SEARCHING: n = 1985, n_max = 1986, n_min = 1984, i = 100, target = 5, \n",
      "SEARCHING: n = 2477, n_max = 2477, n_min = 0, i = 100, target = 6, \n",
      "SEARCHING: n = 1238, n_max = 2477, n_min = 0, i = 100, target = 6, \n",
      "SEARCHING: n = 619, n_max = 1238, n_min = 0, i = 100, target = 6, \n",
      "SEARCHING: n = 928, n_max = 1238, n_min = 619, i = 100, target = 6, \n",
      "SEARCHING: n = 1083, n_max = 1238, n_min = 928, i = 100, target = 6, \n",
      "SEARCHING: n = 1160, n_max = 1238, n_min = 1083, i = 100, target = 6, \n",
      "SEARCHING: n = 1122, n_max = 1160, n_min = 1083, i = 100, target = 6, \n",
      "SEARCHING: n = 1102, n_max = 1122, n_min = 1083, i = 100, target = 6, \n",
      "SEARCHING: n = 1092, n_max = 1102, n_min = 1083, i = 100, target = 6, \n",
      "SEARCHING: n = 1088, n_max = 1092, n_min = 1083, i = 100, target = 6, \n",
      "SEARCHING: n = 1090, n_max = 1092, n_min = 1088, i = 100, target = 6, \n",
      "SEARCHING: n = 1091, n_max = 1092, n_min = 1090, i = 100, target = 6, \n",
      "SEARCHING: n = 2477, n_max = 2477, n_min = 0, i = 100, target = 7, \n",
      "SEARCHING: n = 2477, n_max = 2477, n_min = 0, i = 100, target = 8, \n",
      "SEARCHING: n = 1238, n_max = 2477, n_min = 0, i = 100, target = 8, \n",
      "SEARCHING: n = 1858, n_max = 2477, n_min = 1238, i = 100, target = 8, \n",
      "SEARCHING: n = 1548, n_max = 1858, n_min = 1238, i = 100, target = 8, \n",
      "SEARCHING: n = 1393, n_max = 1548, n_min = 1238, i = 100, target = 8, \n",
      "SEARCHING: n = 1316, n_max = 1393, n_min = 1238, i = 100, target = 8, \n",
      "SEARCHING: n = 1354, n_max = 1393, n_min = 1316, i = 100, target = 8, \n",
      "SEARCHING: n = 1374, n_max = 1393, n_min = 1354, i = 100, target = 8, \n",
      "SEARCHING: n = 1384, n_max = 1393, n_min = 1374, i = 100, target = 8, \n",
      "SEARCHING: n = 1379, n_max = 1384, n_min = 1374, i = 100, target = 8, \n",
      "SEARCHING: n = 1382, n_max = 1384, n_min = 1379, i = 100, target = 8, \n",
      "SEARCHING: n = 1383, n_max = 1384, n_min = 1382, i = 100, target = 8, \n",
      "SEARCHING: n = 2477, n_max = 2477, n_min = 0, i = 100, target = 9, \n",
      "SEARCHING: n = 2477, n_max = 2477, n_min = 0, i = 100, target = 10, \n",
      "Results saved to results_targetfront_binary.csv\n"
     ]
    }
   ],
   "source": [
    "n = profile_length\n",
    "i = 100\n",
    "\n",
    "results_targetfront_binary, profile_targetfront_binary, n_targetfront_binary, target_targetfront_binary = targetfront_binary(original_profile, original_results, n, i)\n",
    "csv_file_path = 'results_targetfront_binary.csv'\n",
    "\n",
    "# # Write the results to the CSV file\n",
    "with open(csv_file_path, 'w', newline='') as file:\n",
    "    writer = csv.writer(file)\n",
    "    writer.writerow(['match', 'n', 'i', 'target'])\n",
    "    writer.writerows(results_targetfront_binary)\n",
    "\n",
    "print(\"Results saved to {}\".format(csv_file_path))"
   ]
  },
  {
   "cell_type": "code",
   "execution_count": 31,
   "metadata": {},
   "outputs": [
    {
     "name": "stdout",
     "output_type": "stream",
     "text": [
      "P': SMALLEST n: 97 TARGET: 4\n",
      "\n",
      "---ROUND 1---\n",
      "Tally: [243, 443, 402, 377, 411, 26, 93, 445, 37, 0, 0]\n",
      "Eliminated [9, 10]:\n",
      "\n",
      "---ROUND 2---\n",
      "Tally: [243, 443, 402, 377, 411, 26, 93, 445, 37, None, None]\n",
      "Eliminated [5]:\n",
      "\n",
      "---ROUND 3---\n",
      "Tally: [243, 447, 403, 386, 414, None, 94, 448, 40, None, None]\n",
      "Eliminated [8]:\n",
      "\n",
      "---ROUND 4---\n",
      "Tally: [249, 451, 409, 388, 423, None, 98, 456, None, None, None]\n",
      "Eliminated [6]:\n",
      "\n",
      "---ROUND 5---\n",
      "Tally: [254, 465, 419, 408, 441, None, None, 476, None, None, None]\n",
      "Eliminated [0]:\n",
      "\n",
      "---ROUND 6---\n",
      "Tally: [None, 521, 452, 449, 502, None, None, 528, None, None, None]\n",
      "Eliminated [3]:\n",
      "\n",
      "---ROUND 7---\n",
      "Tally: [None, 658, 515, None, 599, None, None, 621, None, None, None]\n",
      "Eliminated [2]:\n",
      "\n",
      "---ROUND 8---\n",
      "Tally: [None, 721, None, None, 722, None, None, 860, None, None, None]\n",
      "Eliminated [1]:\n",
      "\n",
      "---ROUND 9---\n",
      "Tally: [None, None, None, None, 1038, None, None, 1037, None, None, None]\n",
      "Eliminated [7]:\n",
      "\n",
      "---ROUND 10---\n",
      "Tally: [None, None, None, None, 1618, None, None, None, None, None, None]\n",
      "Eliminated [4]:\n",
      "\n",
      "Michael Behrendt wins with 1618 votes! \n",
      "\n"
     ]
    }
   ],
   "source": [
    "print(\"P': SMALLEST n: {} TARGET: {}\\n\".format(n_targetfront_binary, target_targetfront_binary))\n",
    "\n",
    "# Test the profile\n",
    "election_targetfront_binary = single_transferable_vote(profile_targetfront_binary, candidate, print_status=True)\n",
    "for result in election_targetfront_binary[0]:\n",
    "    print(\"{} wins with {} votes! \\n\".format(candidate[result + 1], election_targetfront_binary[1]))"
   ]
  },
  {
   "cell_type": "code",
   "execution_count": 83,
   "metadata": {},
   "outputs": [
    {
     "data": {
      "text/plain": [
       "<matplotlib.legend.Legend at 0x2040c8dab90>"
      ]
     },
     "execution_count": 83,
     "metadata": {},
     "output_type": "execute_result"
    },
    {
     "data": {
      "image/png": "[encoded data removed]",
      "text/plain": [
       "<Figure size 640x480 with 1 Axes>"
      ]
     },
     "metadata": {},
     "output_type": "display_data"
    }
   ],
   "source": [
    "df = pd.read_csv('results_targetfront_binary.csv')\n",
    "\n",
    "proportions = df.groupby(['n', 'target'])['match'].mean().unstack()\n",
    "\n",
    "# plot a line for each 'target'\n",
    "plt.figure()\n",
    "for target in proportions.columns:\n",
    "    target_name = candidate[int(target)]\n",
    "    plt.plot(proportions.index, proportions[target], label=f' {target_name}')\n",
    "\n",
    "# Add labels and legend\n",
    "plt.xlabel('manipulators (n)')\n",
    "plt.ylabel(\"ratio\")\n",
    "plt.ylim(-0.01, 1.01)\n",
    "plt.legend(title='Targets')"
   ]
  },
  {
   "cell_type": "markdown",
   "metadata": {},
   "source": [
    "### TARGETFRONT BINARY SPECIFIC\n",
    "- Search the area around the smallest n found with higher i."
   ]
  },
  {
   "cell_type": "code",
   "execution_count": 22,
   "metadata": {},
   "outputs": [
    {
     "name": "stdout",
     "output_type": "stream",
     "text": [
      "SEARCHING: n = 81, n_max = 81, n_min = 0, i = 10000, target = 4, \n",
      "SEARCHING: n = 40, n_max = 81, n_min = 0, i = 10000, target = 4, \n",
      "SEARCHING: n = 60, n_max = 81, n_min = 40, i = 10000, target = 4, \n",
      "SEARCHING: n = 70, n_max = 81, n_min = 60, i = 10000, target = 4, \n",
      "SEARCHING: n = 76, n_max = 81, n_min = 70, i = 10000, target = 4, \n",
      "SEARCHING: n = 78, n_max = 81, n_min = 76, i = 10000, target = 4, \n",
      "SEARCHING: n = 80, n_max = 81, n_min = 78, i = 10000, target = 4, \n",
      "SEARCHING: n = 79, n_max = 80, n_min = 78, i = 10000, target = 4, \n",
      "Results saved to results_targetfront_binary_specific.csv\n"
     ]
    }
   ],
   "source": [
    "n = 80\n",
    "i = 10000\n",
    "\n",
    "results_targetfront_binary_specific, profile_targetfront_binary_specific, n_targetfront_binary_specific, target_targetfront_binary_specific = targetfront_binary_specific(original_profile, original_results, n, i, 4)\n",
    "csv_file_path = 'results_targetfront_binary_specific.csv'\n",
    "\n",
    "# # Write the results to the CSV file\n",
    "with open(csv_file_path, 'w', newline='') as file:\n",
    "    writer = csv.writer(file)\n",
    "    writer.writerow(['match', 'n', 'i', 'target'])\n",
    "    writer.writerows(results_targetfront_binary_specific)\n",
    "\n",
    "print(\"Results saved to {}\".format(csv_file_path))"
   ]
  },
  {
   "cell_type": "code",
   "execution_count": 24,
   "metadata": {},
   "outputs": [
    {
     "name": "stdout",
     "output_type": "stream",
     "text": [
      "P': SMALLEST n: 80 TARGET: 4\n",
      "\n",
      "---ROUND 1---\n",
      "Tally: [240, 440, 406, 378, 408, 26, 93, 448, 38, 0, 0]\n",
      "Eliminated [9, 10]:\n",
      "\n",
      "---ROUND 2---\n",
      "Tally: [240, 440, 406, 378, 408, 26, 93, 448, 38, None, None]\n",
      "Eliminated [5]:\n",
      "\n",
      "---ROUND 3---\n",
      "Tally: [240, 444, 407, 386, 411, None, 95, 451, 41, None, None]\n",
      "Eliminated [8]:\n",
      "\n",
      "---ROUND 4---\n",
      "Tally: [246, 448, 413, 388, 421, None, 99, 459, None, None, None]\n",
      "Eliminated [6]:\n",
      "\n",
      "---ROUND 5---\n",
      "Tally: [252, 461, 424, 408, 439, None, None, 479, None, None, None]\n",
      "Eliminated [0]:\n",
      "\n",
      "---ROUND 6---\n",
      "Tally: [None, 516, 457, 449, 499, None, None, 531, None, None, None]\n",
      "Eliminated [3]:\n",
      "\n",
      "---ROUND 7---\n",
      "Tally: [None, 650, 523, None, 598, None, None, 622, None, None, None]\n",
      "Eliminated [2]:\n",
      "\n",
      "---ROUND 8---\n",
      "Tally: [None, 715, None, None, 726, None, None, 862, None, None, None]\n",
      "Eliminated [1]:\n",
      "\n",
      "---ROUND 9---\n",
      "Tally: [None, None, None, None, 1041, None, None, 1034, None, None, None]\n",
      "Eliminated [7]:\n",
      "\n",
      "---ROUND 10---\n",
      "Tally: [None, None, None, None, 1618, None, None, None, None, None, None]\n",
      "Eliminated [4]:\n",
      "\n",
      "Michael Behrendt wins with 1618 votes! \n",
      "\n"
     ]
    }
   ],
   "source": [
    "print(\"P': SMALLEST n: {} TARGET: {}\\n\".format(n_targetfront_binary_specific, target_targetfront_binary_specific))\n",
    "\n",
    "# Test the profile\n",
    "election_targetfront_binary_specific = single_transferable_vote(profile_targetfront_binary_specific, candidate, print_status=True)\n",
    "for result in election_targetfront_binary_specific[0]:\n",
    "    print(\"{} wins with {} votes! \\n\".format(candidate[result + 1], election_targetfront_binary_specific[1]))"
   ]
  },
  {
   "cell_type": "code",
   "execution_count": 84,
   "metadata": {},
   "outputs": [
    {
     "data": {
      "text/plain": [
       "<matplotlib.legend.Legend at 0x2040cc005d0>"
      ]
     },
     "execution_count": 84,
     "metadata": {},
     "output_type": "execute_result"
    },
    {
     "data": {
      "image/png": "[encoded data removed]",
      "text/plain": [
       "<Figure size 640x480 with 1 Axes>"
      ]
     },
     "metadata": {},
     "output_type": "display_data"
    }
   ],
   "source": [
    "df = pd.read_csv('results_targetfront_binary_specific.csv')\n",
    "\n",
    "proportions = df.groupby(['n', 'target'])['match'].mean().unstack()\n",
    "\n",
    "# plot a line for each 'target'\n",
    "plt.figure()\n",
    "for target in proportions.columns:\n",
    "    target_name = candidate[int(target)]\n",
    "    plt.plot(proportions.index, proportions[target], label=f' {target_name}')\n",
    "\n",
    "# Add labels and legend\n",
    "plt.xlabel('manipulators (n)')\n",
    "plt.ylabel(\"ratio\")\n",
    "plt.ylim(0.999, 1.001)\n",
    "plt.legend(title='Targets')"
   ]
  },
  {
   "cell_type": "markdown",
   "metadata": {},
   "source": [
    "### TARGETBACK GRID SEARCH \n",
    "- Places the target candidate to the last place position of n randomly chosen voters. \n",
    "- Search across all values of n. \n",
    "- Adjust i to change the number of iterations for each value of n. \n",
    "- Takes a long time to run. "
   ]
  },
  {
   "cell_type": "code",
   "execution_count": null,
   "metadata": {},
   "outputs": [],
   "source": [
    "n = profile_length\n",
    "i = 10\n",
    "\n",
    "results_targetback_grid, profile_targetback_grid, n_targetback_grid, target_targetback_binary= targetback_grid(original_profile, original_results, n, i)\n",
    "csv_file_path = 'results_targetback_grid.csv'\n",
    "\n",
    "# # Write the results to the CSV file\n",
    "with open(csv_file_path, 'w', newline='') as file:\n",
    "    writer = csv.writer(file)\n",
    "    writer.writerow(['match', 'n', 'i', 'target'])\n",
    "    writer.writerows(results_targetback_grid)\n",
    "\n",
    "print(\"Results saved to {}\".format(csv_file_path))"
   ]
  },
  {
   "cell_type": "code",
   "execution_count": null,
   "metadata": {},
   "outputs": [],
   "source": [
    "print(\"P': SMALLEST n: {} TARGET: {}\\n\".format(n_targetback_grid, target_targetback_binary))\n",
    "\n",
    "# Test the profile\n",
    "election_targetback_grid = single_transferable_vote(profile_targetback_grid, candidate, print_status=True)\n",
    "for result in election_targetback_grid[0]:\n",
    "    print(\"{} wins with {} votes! \\n\".format(candidate[result + 1], election_targetback_grid[1]))"
   ]
  },
  {
   "cell_type": "code",
   "execution_count": null,
   "metadata": {},
   "outputs": [],
   "source": [
    "df = pd.read_csv('results_targetback_grid.csv')\n",
    "\n",
    "proportions = df.groupby(['n', 'target'])['match'].mean().unstack()\n",
    "\n",
    "# Plot a line for each 'target'\n",
    "for target in proportions.columns:\n",
    "    plt.plot(proportions.index, proportions[target], label=f'Target {target}')\n",
    "\n",
    "# Add labels and legend\n",
    "plt.xlabel('Number of preferences shuffled (n)')\n",
    "plt.ylabel(\"Proportion of True\")\n",
    "plt.ylim(0, 1.01)\n",
    "plt.legend(title='Targets')\n",
    "\n",
    "# Show the plot\n",
    "plt.show()\n",
    "\n",
    "smoothed_proportions = proportions.rolling(window=100, min_periods=1).mean()\n",
    "smoothed_proportions.plot(kind='line')\n",
    "plt.xlabel('Number of preferences shuffled (n)')\n",
    "plt.ylabel(\"Proportion (P = P')\")\n",
    "plt.ylim(0, 1.01)\n",
    "plt.title('Smoothed')\n",
    "plt.show()"
   ]
  },
  {
   "cell_type": "markdown",
   "metadata": {},
   "source": [
    "### TARGET BACK BINARY SEARCH\n",
    "- Places the target candidate to the last place position of n randomly chosen voters. \n",
    "- Does a binary search for smallest value of n that changes the result.  \n",
    "- Adjust i to change the number of iterations for each value of n. \n",
    "- Much faster the run. "
   ]
  },
  {
   "cell_type": "code",
   "execution_count": null,
   "metadata": {},
   "outputs": [],
   "source": [
    "n = profile_length\n",
    "i = 100\n",
    "\n",
    "results_targetback_binary, profile_targetback_binary, n_targetback_binary, target_targetback_binary = targetback_binary(original_profile, original_results, n, i)\n",
    "csv_file_path = 'results_targetback_binary.csv'\n",
    "\n",
    "# # Write the results to the CSV file\n",
    "with open(csv_file_path, 'w', newline='') as file:\n",
    "    writer = csv.writer(file)\n",
    "    writer.writerow(['match', 'n', 'i', 'target'])\n",
    "    writer.writerows(results_targetback_binary)\n",
    "\n",
    "print(\"Results saved to {}\".format(csv_file_path))"
   ]
  },
  {
   "cell_type": "code",
   "execution_count": null,
   "metadata": {},
   "outputs": [],
   "source": [
    "print(\"P': SMALLEST n: {} TARGET: {}\\n\".format(n_targetback_binary, target_targetback_binary))\n",
    "\n",
    "# Test the profile\n",
    "election_targetback_binary = single_transferable_vote(profile_targetback_binary, candidate, print_status=True)\n",
    "for result in election_targetback_binary[0]:\n",
    "    print(\"{} wins with {} votes! \\n\".format(candidate[result + 1], election_targetback_binary[1]))"
   ]
  },
  {
   "cell_type": "code",
   "execution_count": 36,
   "metadata": {},
   "outputs": [
    {
     "data": {
      "text/plain": [
       "<matplotlib.legend.Legend at 0x20409c3fdd0>"
      ]
     },
     "execution_count": 36,
     "metadata": {},
     "output_type": "execute_result"
    },
    {
     "data": {
      "image/png": "[encoded data removed]",
      "text/plain": [
       "<Figure size 640x480 with 1 Axes>"
      ]
     },
     "metadata": {},
     "output_type": "display_data"
    }
   ],
   "source": [
    "df = pd.read_csv('results_targetback_binary.csv')\n",
    "\n",
    "proportions = df.groupby(['n', 'target'])['match'].mean().unstack()\n",
    "\n",
    "# plot a line for each 'target'\n",
    "plt.figure()\n",
    "for target in proportions.columns:\n",
    "    target_name = candidate[int(target)]\n",
    "    plt.plot(proportions.index, proportions[target], label=f' {target_name}')\n",
    "\n",
    "# Add labels and legend\n",
    "plt.xlabel('Manipulators (n)')\n",
    "plt.ylabel(\"Ratio (P/P')\")\n",
    "plt.ylim(-0.01, 1.01)\n",
    "plt.legend(title='Targets')"
   ]
  }
 ],
 "metadata": {
  "kernelspec": {
   "display_name": ".venv",
   "language": "python",
   "name": "python3"
  },
  "language_info": {
   "codemirror_mode": {
    "name": "ipython",
    "version": 3
   },
   "file_extension": ".py",
   "mimetype": "text/x-python",
   "name": "python",
   "nbconvert_exporter": "python",
   "pygments_lexer": "ipython3",
   "version": "3.11.8"
  }
 },
 "nbformat": 4,
 "nbformat_minor": 2
}
