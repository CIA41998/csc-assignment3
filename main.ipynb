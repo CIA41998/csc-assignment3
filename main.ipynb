{
 "cells": [
  {
   "cell_type": "markdown",
   "metadata": {},
   "source": [
    "# Computational Social Choice - Assignment 3\n",
    "Yorick Juffer - s1993623 \\\n",
    "Ioana Cojocaru - s5002117"
   ]
  },
  {
   "cell_type": "markdown",
   "metadata": {},
   "source": [
    "## Libraries"
   ]
  },
  {
   "cell_type": "code",
   "execution_count": 21,
   "metadata": {},
   "outputs": [],
   "source": [
    "import math\n",
    "import random\n",
    "import copy\n",
    "import csv\n",
    "import pandas as pd\n",
    "import matplotlib.pyplot as plt"
   ]
  },
  {
   "cell_type": "markdown",
   "metadata": {},
   "source": [
    "## Candidate List"
   ]
  },
  {
   "cell_type": "code",
   "execution_count": 22,
   "metadata": {},
   "outputs": [],
   "source": [
    "candidate = {\n",
    "    1: \"Jackie Kasabach\",\n",
    "    2: \"Jack Johnson\",\n",
    "    3: \"Adam Frisch\",\n",
    "    4: \"Torre\",\n",
    "    5: \"Michael Behrendt\",\n",
    "    6: \"Jason Lasser\",\n",
    "    7: \"Michael Wampler\",\n",
    "    8: \"Derek Johnson\",\n",
    "    9: \"Brian D. Speck\",\n",
    "    10: \"Write In 1\",\n",
    "    11: \"Write In 2\"\n",
    "}"
   ]
  },
  {
   "cell_type": "markdown",
   "metadata": {},
   "source": [
    "## Functions"
   ]
  },
  {
   "cell_type": "markdown",
   "metadata": {},
   "source": [
    "### Load Data\n",
    "- Loads the data.txt file. \n",
    "- The output profile is a list, of which each element contains a vote (profile[n][0]) and preferences (profile[n][1:]).\n",
    "- Each voters preferences are made unique so (profile[n][0]=1), so they can be easily manipulated. \n",
    "- If there is a tie ([1, 2]), both recieve a vote."
   ]
  },
  {
   "cell_type": "code",
   "execution_count": 23,
   "metadata": {},
   "outputs": [],
   "source": [
    "def load(path): \n",
    "    profile = []\n",
    "\n",
    "    with open(path, 'r') as file:\n",
    "        for line in file:\n",
    "            line = line.strip()\n",
    "\n",
    "            # for each line, split the votes and preferences\n",
    "            if line:\n",
    "                votes_str, preferences_str = line.split(':')\n",
    "                votes = int(votes_str)\n",
    "\n",
    "                for _ in range(votes):\n",
    "\n",
    "                    preferences = []\n",
    "                    tied_preferences = []\n",
    "                    tie = False\n",
    "\n",
    "                    # add the preferences to the profile\n",
    "                    # split the tied votes and add them as a list to the profile\n",
    "                    for pref in preferences_str.split(','):\n",
    "                        pref = pref.strip()\n",
    "\n",
    "                        if \"}\" in pref:\n",
    "                            pref = pref.replace('}', '')\n",
    "                            tied_preferences.append(int(pref))\n",
    "                            preferences.append(tied_preferences)\n",
    "                            tie = False\n",
    "\n",
    "                        elif \"{\" in pref or tie:\n",
    "                            pref = pref.replace('{', '')\n",
    "                            tied_preferences.append(int(pref))\n",
    "                            tie = True\n",
    "                        else:\n",
    "                            preferences.append(int(pref))\n",
    "\n",
    "                    # add the votes and preferences to the profile\n",
    "                    profile.append(preferences)\n",
    "\n",
    "    return profile\n",
    "\n",
    "# load data and convert\n",
    "file_path = 'data.txt'\n",
    "original_profile = load(file_path)\n",
    "profile_length = len(original_profile)"
   ]
  },
  {
   "cell_type": "markdown",
   "metadata": {},
   "source": [
    "### Single Transferable Vote\n",
    "- This function takes a profile and a list of candidates and returns the winner of the election using the STV social choice function. \n",
    "- The profile ranges alternatives from 1 to 11, but this function uses a 0-based index to represent the candidates."
   ]
  },
  {
   "cell_type": "code",
   "execution_count": 24,
   "metadata": {},
   "outputs": [],
   "source": [
    "def single_transferable_vote(profile, candidates, print_status=False):\n",
    "    eliminated_candidates = []\n",
    "\n",
    "    round = 0\n",
    "    while len(eliminated_candidates) < len(candidates):\n",
    "\n",
    "        # reset the round\n",
    "        round += 1\n",
    "        tally = [0] * len(candidates)\n",
    "        for index in eliminated_candidates:\n",
    "            tally[index] = None\n",
    "        lowest_votes = 0\n",
    "        eliminate = []\n",
    "\n",
    "        # tally the votes for each candidate\n",
    "        for pref in profile:\n",
    "\n",
    "            n = 0\n",
    "            # search for the candidate with the highest preference that has not been eliminated\n",
    "            searching = True\n",
    "            while searching:\n",
    "\n",
    "                # if the preference is a tie \n",
    "                if isinstance(pref[n], list):\n",
    "                    m = 0\n",
    "\n",
    "                    # for each tied preference, check if the candidate has been eliminated otherwise tally the votes\n",
    "                    for _ in pref[n]:\n",
    "\n",
    "                        if pref[n][m] - 1 not in eliminated_candidates:\n",
    "                            candidate = pref[n][m] - 1\n",
    "                            tally[candidate] += 1\n",
    "\n",
    "                        m += 1\n",
    "                        if m >= len(pref[n]):\n",
    "                            searching = False\n",
    "\n",
    "                # check if the candidate has been eliminated\n",
    "                elif pref[n] - 1 not in eliminated_candidates:\n",
    "                    candidate = pref[n] - 1\n",
    "                    tally[candidate] += 1\n",
    "                    searching = False\n",
    "\n",
    "                n += 1\n",
    "                if n >= len(pref):\n",
    "                    searching = False\n",
    "\n",
    "        # eliminate the candidate with the lowest votes\n",
    "        lowest_votes = min(value for value in tally if value is not None)\n",
    "        eliminate = [i for i, value in enumerate(tally) if value == lowest_votes]\n",
    "        eliminated_candidates.extend(eliminate)\n",
    "\n",
    "        # find the winner\n",
    "        highest_votes = max(value for value in tally if value is not None)\n",
    "        winner = [i for i, value in enumerate(tally) if value == highest_votes]\n",
    "\n",
    "        if print_status:\n",
    "            print(\"---ROUND {}---\".format(round))\n",
    "            print(\"Tally: {}\".format(tally))\n",
    "            print(\"Eliminated {}:\".format(eliminate))\n",
    "            print()\n",
    "\n",
    "    return winner, highest_votes"
   ]
  },
  {
   "cell_type": "markdown",
   "metadata": {},
   "source": [
    "### Manipulate Functions\n",
    "- Take in a P and output P'"
   ]
  },
  {
   "cell_type": "code",
   "execution_count": 25,
   "metadata": {},
   "outputs": [],
   "source": [
    "# Change target to the first position candidate of n voters.\n",
    "def targetfront_manipulate(profile, n, target):\n",
    "\n",
    "    rng = random.sample(range(0, len(profile)), n)\n",
    "\n",
    "\n",
    "    for index in rng:    \n",
    "        pref = profile[index]\n",
    "\n",
    "        while pref[0] == 8:\n",
    "            pref = profile[random.randint(0, len(profile) - 1)]\n",
    "\n",
    "        for alt in pref:\n",
    "            if isinstance(alt, list):\n",
    "                if target in alt:\n",
    "                    alt.remove(target)\n",
    "                    pref.insert(0, target)\n",
    "                    profile[index] = pref\n",
    "            else:\n",
    "                if target in pref:\n",
    "                    pref.remove(target)\n",
    "                    pref.insert(0, target)\n",
    "                    profile[index] = pref\n",
    "    return profile\n",
    "\n",
    "# Change target to the last position candidate of n voters.\n",
    "def targetback_manipulate(profile, n, target):\n",
    "\n",
    "    rng = random.sample(range(0, len(profile)), n)\n",
    "\n",
    "    for index in rng:    \n",
    "        pref = profile[index]\n",
    "        for alt in pref:\n",
    "            if isinstance(alt, list):\n",
    "                if target in alt:\n",
    "                    alt.remove(target)\n",
    "                    pref.insert(len(profile), target)\n",
    "                    profile[index] = pref\n",
    "            else:\n",
    "                if target in pref:\n",
    "                    pref.remove(target)\n",
    "                    pref.insert(len(profile), target)\n",
    "                    profile[index] = pref\n",
    "\n",
    "    return profile\n",
    "\n",
    "# Randomly shuffle the preferences of n voters.\n",
    "def random_manipulate(profile, n):\n",
    "     \n",
    "    rng = random.sample(range(0, len(profile)), n)\n",
    "\n",
    "    for index in rng:\n",
    "        pref = profile[index]\n",
    "        random.shuffle(pref)\n",
    "        profile[index] = pref\n",
    "\n",
    "    return profile"
   ]
  },
  {
   "cell_type": "markdown",
   "metadata": {},
   "source": [
    "## Results\n",
    "0 indexed\n",
    "- 0: \"Jackie Kasabach\",\n",
    "- 1: \"Jack Johnson\",\n",
    "- 2: \"Adam Frisch\",\n",
    "- 3: \"Torre\",\n",
    "- 4: \"Michael Behrendt\",\n",
    "- 5: \"Jason Lasser\",\n",
    "- 6: \"Michael Wampler\",\n",
    "- 7: \"Derek Johnson\",\n",
    "- 8: \"Brian D. Speck\",\n",
    "- 9: \"Write In 1\",\n",
    "- 10: \"Write In 2\""
   ]
  },
  {
   "cell_type": "code",
   "execution_count": 26,
   "metadata": {},
   "outputs": [
    {
     "name": "stdout",
     "output_type": "stream",
     "text": [
      "---ROUND 1---\n",
      "Tally: [245, 456, 414, 385, 351, 27, 98, 463, 38, 0, 0]\n",
      "Eliminated [9, 10]:\n",
      "\n",
      "---ROUND 2---\n",
      "Tally: [245, 456, 414, 385, 351, 27, 98, 463, 38, None, None]\n",
      "Eliminated [5]:\n",
      "\n",
      "---ROUND 3---\n",
      "Tally: [245, 460, 415, 394, 354, None, 100, 466, 41, None, None]\n",
      "Eliminated [8]:\n",
      "\n",
      "---ROUND 4---\n",
      "Tally: [251, 464, 421, 396, 364, None, 104, 474, None, None, None]\n",
      "Eliminated [6]:\n",
      "\n",
      "---ROUND 5---\n",
      "Tally: [259, 478, 433, 416, 383, None, None, 494, None, None, None]\n",
      "Eliminated [0]:\n",
      "\n",
      "---ROUND 6---\n",
      "Tally: [None, 535, 467, 458, 445, None, None, 547, None, None, None]\n",
      "Eliminated [4]:\n",
      "\n",
      "---ROUND 7---\n",
      "Tally: [None, 620, 557, 552, None, None, None, 671, None, None, None]\n",
      "Eliminated [3]:\n",
      "\n",
      "---ROUND 8---\n",
      "Tally: [None, 801, 672, None, None, None, None, 815, None, None, None]\n",
      "Eliminated [2]:\n",
      "\n",
      "---ROUND 9---\n",
      "Tally: [None, 908, None, None, None, None, None, 1227, None, None, None]\n",
      "Eliminated [1]:\n",
      "\n",
      "---ROUND 10---\n",
      "Tally: [None, None, None, None, None, None, None, 1685, None, None, None]\n",
      "Eliminated [7]:\n",
      "\n",
      "Derek Johnson wins with 1685 votes! \n",
      "\n"
     ]
    }
   ],
   "source": [
    "profile_length = len(original_profile)\n",
    "\n",
    "# FIND THE WINNER\n",
    "original_results = single_transferable_vote(original_profile, candidate, print_status=True)\n",
    "for result in original_results[0]:\n",
    "    print(\"{} wins with {} votes! \\n\".format(candidate[result + 1], original_results[1]))"
   ]
  },
  {
   "cell_type": "markdown",
   "metadata": {},
   "source": [
    "## Grid Search to Find P'"
   ]
  },
  {
   "cell_type": "code",
   "execution_count": 27,
   "metadata": {},
   "outputs": [],
   "source": [
    "# run the impact of random manipulations across parameters\n",
    "def random_grid(profile, original_results, n, i):\n",
    "        \n",
    "    results = []\n",
    "    n_smallest = n\n",
    "    profile_smallest = None\n",
    "\n",
    "    while n > 0:\n",
    "        print(\"SEARCHING: n = {}, i = {}, \".format(n, i))\n",
    "        for _ in range(i):\n",
    "            x = copy.deepcopy(profile)\n",
    "            manipulated_profile = random_manipulate(x, n)\n",
    "            output = single_transferable_vote(manipulated_profile, candidate)\n",
    "            results.append([original_results[0] == output[0], n, i])\n",
    "\n",
    "            if not original_results[0] == output[0]:\n",
    "                if n < n_smallest:\n",
    "                        n_smallest = n\n",
    "                        profile_smallest = copy.deepcopy(manipulated_profile)\n",
    "        n -= 1\n",
    "    return results, profile_smallest, n_smallest\n",
    "\n",
    "# run the impact of target manipulations across parameters\n",
    "def targetfront_grid(profile, original_results, n, i):\n",
    "\n",
    "    results = []\n",
    "    n_saved = n\n",
    "    n_smallest = n\n",
    "    target_best = None\n",
    "    profile_smallest = None\n",
    "\n",
    "    for target in range(len(candidate)): \n",
    "        n = n_saved\n",
    "        while n > 0:\n",
    "            print(\"SEARCHING: n = {}, i = {}, target = {}, \".format(n, i, target+1))\n",
    "            for _ in range(i):\n",
    "                x = copy.deepcopy(profile)\n",
    "                manipulated_profile = targetfront_manipulate(x, n, target+1)\n",
    "                output = single_transferable_vote(manipulated_profile, candidate)\n",
    "                results.append([original_results[0] == output[0], n, i, target+1])\n",
    "\n",
    "                if not original_results[0] == output[0]:\n",
    "                    if n < n_smallest:\n",
    "                        n_smallest = n\n",
    "                        target_best = target\n",
    "                        profile_smallest = copy.deepcopy(manipulated_profile)\n",
    "            n -= 1\n",
    "        \n",
    "    return results, profile_smallest, n_smallest, target_best\n",
    "\n",
    "# run the impact of target manipulations across parameters\n",
    "def targetback_grid(profile, original_results, n, i):\n",
    "\n",
    "    results = []\n",
    "    n_saved = n\n",
    "    n_smallest = n\n",
    "    target_best = None\n",
    "    profile_smallest = None\n",
    "\n",
    "    for target in range(len(candidate)): \n",
    "        n = n_saved \n",
    "        while n > 0:\n",
    "            print(\"SEARCHING: n = {}, i = {}, target = {}, \".format(n, i, target+1))\n",
    "            for _ in range(i):\n",
    "                x = copy.deepcopy(profile)\n",
    "                manipulated_profile = targetback_manipulate(x, n, target+1)\n",
    "                output = single_transferable_vote(manipulated_profile, candidate)\n",
    "                results.append([original_results[0] == output[0], n, i, target+1])\n",
    "\n",
    "                if not original_results[0] == output[0]:\n",
    "                    if n < n_smallest:\n",
    "                        n_smallest = n\n",
    "                        target_best = target\n",
    "                        profile_smallest = copy.deepcopy(manipulated_profile)\n",
    "            n -= 1\n",
    "            \n",
    "    return results, profile_smallest, n_smallest, target_best"
   ]
  },
  {
   "cell_type": "markdown",
   "metadata": {},
   "source": [
    "## Binary Search to Find P'\n",
    "- Will search for P != P' between n_max and n_min.\n",
    "- Updates n by taking the mid point between n_max and n_min."
   ]
  },
  {
   "cell_type": "code",
   "execution_count": 28,
   "metadata": {},
   "outputs": [],
   "source": [
    "# run the impact of random manipulations across parameters\n",
    "def random_binary(profile, original_results, n, i):\n",
    "        \n",
    "    results = []\n",
    "    n_min = 0\n",
    "    n_max = n\n",
    "    n_smallest = n\n",
    "    profile_smallest = None\n",
    "\n",
    "    while abs(n_max - n_min) > 1:\n",
    "\n",
    "        print(\"SEARCHING: n = {}, n_max = {}, n_min = {}, i = {}, \".format(n, n_max, n_min, i))\n",
    "        found = False\n",
    "\n",
    "        for _ in range(i):\n",
    "            x = copy.deepcopy(profile)\n",
    "            manipulated_profile = random_manipulate(x, n)\n",
    "            output = single_transferable_vote(manipulated_profile, candidate)\n",
    "            results.append([original_results[0] == output[0], n, i])\n",
    "\n",
    "            if not original_results[0] == output[0]:\n",
    "                if n < n_smallest:\n",
    "                    profile_smallest = copy.deepcopy(manipulated_profile)\n",
    "                    n_smallest = n\n",
    "                found = True\n",
    "\n",
    "        if found:\n",
    "            n_max = n\n",
    "            n = round(n_max - (n_max - n_min)/2)\n",
    "        else:\n",
    "            n_min = n\n",
    "            n = round(n_min + (n_max - n_min)/2)\n",
    " \n",
    "    return results, profile_smallest, n_smallest\n",
    "\n",
    "# run the impact of target manipulations across parameters\n",
    "def targetfront_binary(profile, original_results, n, i):\n",
    "\n",
    "    results = []\n",
    "    n_saved = n\n",
    "    n_smallest = n\n",
    "    target_best = None\n",
    "    profile_smallest = None\n",
    "    \n",
    "    for target in range(len(candidate)): \n",
    "\n",
    "        n = n_saved\n",
    "        n_max = n_saved\n",
    "        n_min = 0\n",
    "\n",
    "        while abs(n_max - n_min) > 1:\n",
    "\n",
    "            print(\"SEARCHING: n = {}, n_max = {}, n_min = {}, i = {}, target = {}, \".format(n, n_max, n_min, i, target))\n",
    "            found = False\n",
    "\n",
    "            for _ in range(i):\n",
    "                x = copy.deepcopy(profile)\n",
    "                manipulated_profile = targetfront_manipulate(x, n, target+1)\n",
    "                output = single_transferable_vote(manipulated_profile, candidate)\n",
    "                results.append([original_results[0] == output[0], n, i, target+1])\n",
    "\n",
    "                if not original_results[0] == output[0]:\n",
    "                    if n < n_smallest:\n",
    "                        n_smallest = n\n",
    "                        target_best = target\n",
    "                        profile_smallest = copy.deepcopy(manipulated_profile)\n",
    "                    found = True\n",
    "\n",
    "            if found:\n",
    "                n_max = n\n",
    "                n = round(n_max - (n_max - n_min)/2)\n",
    "            else:\n",
    "                n_min = n\n",
    "                n = round(n_min + (n_max - n_min)/2)\n",
    "            \n",
    "    return results, profile_smallest, n_smallest, target_best\n",
    "\n",
    "# run the impact of target manipulations across parameters\n",
    "def targetback_binary(profile, original_results, n, i):\n",
    "\n",
    "    results = []\n",
    "    n_saved = n\n",
    "    n_smallest = n\n",
    "    target_best = None\n",
    "    profile_smallest = None\n",
    "    \n",
    "    for target in range(len(candidate)): \n",
    "\n",
    "        n = n_saved\n",
    "        n_max = n_saved\n",
    "        n_min = 0\n",
    "\n",
    "        while abs(n_max - n_min) > 1:\n",
    "\n",
    "            print(\"SEARCHING: n = {}, n_max = {}, n_min = {}, i = {}, target = {}, \".format(n, n_max, n_min, i, target))\n",
    "            found = False\n",
    "\n",
    "            for _ in range(i):\n",
    "                x = copy.deepcopy(profile)\n",
    "                manipulated_profile = targetback_manipulate(x, n, target+1)\n",
    "                output = single_transferable_vote(manipulated_profile, candidate)\n",
    "                results.append([original_results[0] == output[0], n, i, target+1])\n",
    "\n",
    "                if not original_results[0] == output[0]:\n",
    "                    if n < n_smallest:\n",
    "                        n_smallest = n\n",
    "                        target_best = target\n",
    "                        profile_smallest = copy.deepcopy(manipulated_profile)\n",
    "                    found = True\n",
    "            \n",
    "            if found:\n",
    "                n_max = n\n",
    "                n = round(n_max - (n_max - n_min)/2)\n",
    "            else:\n",
    "                n_min = n\n",
    "                n = round(n_min + (n_max - n_min)/2)\n",
    "               \n",
    "    return results, profile_smallest, n_smallest, target_best\n",
    "\n",
    "def targetfront_binary_specific(profile, original_results, n, i, target):\n",
    "\n",
    "    results = []\n",
    "    n_saved = n\n",
    "    n_smallest = n\n",
    "    target_best = None\n",
    "    profile_smallest = None\n",
    "    \n",
    "    n = n_saved\n",
    "    n_max = n_saved\n",
    "    n_min = 0\n",
    "\n",
    "    while abs(n_max - n_min) > 1:\n",
    "\n",
    "        print(\"SEARCHING: n = {}, n_max = {}, n_min = {}, i = {}, target = {}, \".format(n, n_max, n_min, i, target))\n",
    "        found = False\n",
    "\n",
    "        for _ in range(i):\n",
    "            x = copy.deepcopy(profile)\n",
    "            manipulated_profile = targetfront_manipulate(x, n, target+1)\n",
    "            output = single_transferable_vote(manipulated_profile, candidate)\n",
    "            results.append([original_results[0] == output[0], n, i, target+1])\n",
    "\n",
    "            if not original_results[0] == output[0]:\n",
    "                if n < n_smallest:\n",
    "                    n_smallest = n\n",
    "                    target_best = target\n",
    "                    profile_smallest = copy.deepcopy(manipulated_profile)\n",
    "                found = True\n",
    "\n",
    "        if found:\n",
    "            n_max = n\n",
    "            n = round(n_max - (n_max - n_min)/2)\n",
    "        else:\n",
    "            n_min = n\n",
    "            n = round(n_min + (n_max - n_min)/2)\n",
    "            \n",
    "    return results, profile_smallest, n_smallest, target_best"
   ]
  },
  {
   "cell_type": "markdown",
   "metadata": {},
   "source": [
    "## Analysis"
   ]
  },
  {
   "cell_type": "markdown",
   "metadata": {},
   "source": [
    "### RANDOM GRID SEARCH\n",
    "- Search across all values of n. \n",
    "- Adjust i to change the number of iterations for each value of n. \n",
    "- Takes a long time to run. "
   ]
  },
  {
   "cell_type": "code",
   "execution_count": null,
   "metadata": {},
   "outputs": [],
   "source": [
    "n = profile_length\n",
    "i = 10\n",
    "\n",
    "results_random_grid, profile_random_grid, n_random_grid = random_grid(original_profile, original_results, n, i)\n",
    "csv_file_path = 'results_random_grid.csv'\n",
    "\n",
    "# # Write the results to the CSV file\n",
    "with open(csv_file_path, 'w', newline='') as file:\n",
    "    writer = csv.writer(file)\n",
    "    writer.writerow(['match', 'n', 'i'])\n",
    "    writer.writerows(results_random_grid)\n",
    "\n",
    "print(\"Results saved to {}\".format(csv_file_path))"
   ]
  },
  {
   "cell_type": "code",
   "execution_count": null,
   "metadata": {},
   "outputs": [],
   "source": [
    "print(\"P': SMALLEST n = {}\\n\".format(n_random_grid))\n",
    "\n",
    "# Test the profile\n",
    "election_random_grid = single_transferable_vote(profile_random_grid, candidate, print_status=True)\n",
    "for result in election_random_grid[0]:\n",
    "    print(\"{} wins with {} votes! \\n\".format(candidate[result + 1], election_random_grid[1]))"
   ]
  },
  {
   "cell_type": "code",
   "execution_count": 34,
   "metadata": {},
   "outputs": [
    {
     "data": {
      "image/png": "[encoded data removed]",
      "text/plain": [
       "<Figure size 640x480 with 1 Axes>"
      ]
     },
     "metadata": {},
     "output_type": "display_data"
    },
    {
     "data": {
      "image/png": "[encoded data removed]",
      "text/plain": [
       "<Figure size 640x480 with 1 Axes>"
      ]
     },
     "metadata": {},
     "output_type": "display_data"
    }
   ],
   "source": [
    "# DARW PLOTS\n",
    "df = pd.read_csv('results_random_grid.csv')\n",
    "\n",
    "proportions = df.groupby('n')['match'].mean()\n",
    "proportions.plot(kind='line')\n",
    "plt.xlabel('Manipulators (n)')\n",
    "plt.ylabel(\"Ratio (P/P')\")\n",
    "plt.ylim(-0.01, 1.01)\n",
    "plt.show()\n",
    "\n",
    "smoothed_proportions = proportions.rolling(window=100, min_periods=1).mean()\n",
    "smoothed_proportions.plot(kind='line')\n",
    "plt.xlabel('Manipulators (n)')\n",
    "plt.ylabel(\"Ratio (P/P')\")\n",
    "plt.ylim(-0.01, 1.01)\n",
    "plt.title('Smoothed')\n",
    "plt.show()"
   ]
  },
  {
   "cell_type": "markdown",
   "metadata": {},
   "source": [
    "### RANDOM BINARY SEARCH\n",
    "- Does a binary search for the smallest value of n that changes the result of the election.\n",
    "- Adjust i to change the number of iterations for each value of n. \n",
    "- Much faster the run. "
   ]
  },
  {
   "cell_type": "code",
   "execution_count": null,
   "metadata": {},
   "outputs": [],
   "source": [
    "n = profile_length\n",
    "i = 100\n",
    "\n",
    "results_random_binary, profile_random_binary, n_random_binary = random_binary(original_profile, original_results, n, i)\n",
    "csv_file_path = 'results_random_binary.csv'\n",
    "\n",
    "# # Write the results to the CSV file\n",
    "with open(csv_file_path, 'w', newline='') as file:\n",
    "    writer = csv.writer(file)\n",
    "    writer.writerow(['match', 'n', 'i'])\n",
    "    writer.writerows(results_random_binary)\n",
    "\n",
    "print(\"Results saved to {}\".format(csv_file_path))"
   ]
  },
  {
   "cell_type": "code",
   "execution_count": null,
   "metadata": {},
   "outputs": [],
   "source": [
    "print(\"P': SMALLEST n = {}\\n\".format(n_random_binary))\n",
    "\n",
    "# Test the profile\n",
    "election_random_binary = single_transferable_vote(profile_random_binary, candidate, print_status=True)\n",
    "for result in election_random_binary[0]:\n",
    "    print(\"{} wins with {} votes! \\n\".format(candidate[result + 1], election_random_binary[1]))"
   ]
  },
  {
   "cell_type": "code",
   "execution_count": 35,
   "metadata": {},
   "outputs": [
    {
     "data": {
      "image/png": "[encoded data removed]",
      "text/plain": [
       "<Figure size 640x480 with 1 Axes>"
      ]
     },
     "metadata": {},
     "output_type": "display_data"
    }
   ],
   "source": [
    "df = pd.read_csv('results_random_binary.csv')\n",
    "\n",
    "proportions = df.groupby('n')['match'].mean()\n",
    "proportions.plot(kind='line')\n",
    "plt.xlabel('Manipulators (n)')\n",
    "plt.ylabel(\"Proportion (P = P')\")\n",
    "plt.ylim(-0.01, 1.01)\n",
    "plt.show()"
   ]
  },
  {
   "cell_type": "markdown",
   "metadata": {},
   "source": [
    "### TARGETFRONT GRID SEARCH\n",
    "- Places the target candidate to the first place position of n randomly chosen voters. \n",
    "- Search across all values of n. \n",
    "- Adjust i to change the number of iterations for each value of n. \n",
    "- Takes a long time to run. "
   ]
  },
  {
   "cell_type": "code",
   "execution_count": null,
   "metadata": {},
   "outputs": [],
   "source": [
    "n = profile_length\n",
    "i = 3\n",
    "\n",
    "results_targetfront_grid, profile_targetfront_grid, n_targetfront_grid  = targetfront_grid(original_profile, original_results, n, i)\n",
    "csv_file_path = 'results_targetfront_grid.csv'\n",
    "\n",
    "# # Write the results to the CSV file\n",
    "with open(csv_file_path, 'w', newline='') as file:\n",
    "    writer = csv.writer(file)\n",
    "    writer.writerow(['match', 'n', 'i', 'target'])\n",
    "    writer.writerows(results_targetfront_grid)\n",
    "\n",
    "print(\"Results saved to {}\".format(csv_file_path))"
   ]
  },
  {
   "cell_type": "code",
   "execution_count": null,
   "metadata": {},
   "outputs": [],
   "source": [
    "print(\"P': SMALLEST n = {}\\n\".format(n_targetfront_grid))\n",
    "\n",
    "# Test the profile\n",
    "election_targetfront_grid = single_transferable_vote(profile_targetfront_grid, candidate, print_status=True)\n",
    "for result in election_targetfront_grid[0]:\n",
    "    print(\"{} wins with {} votes! \\n\".format(candidate[result + 1], election_targetfront_grid[1]))"
   ]
  },
  {
   "cell_type": "code",
   "execution_count": null,
   "metadata": {},
   "outputs": [],
   "source": [
    "df = pd.read_csv('results_targetfront_grid.csv')\n",
    "\n",
    "proportions = df.groupby(['n', 'target'])['match'].mean().unstack()\n",
    "\n",
    "# Plot a line for each 'target'\n",
    "for target in proportions.columns:\n",
    "    plt.plot(proportions.index, proportions[target], label=f'Target {target}')\n",
    "\n",
    "# Add labels and legend\n",
    "plt.xlabel('Manipulators (n)')\n",
    "plt.ylabel(\"Ratio (P/P')\")\n",
    "plt.ylim(-0.01, 1.01)\n",
    "plt.show()\n",
    "\n",
    "# Show the plot\n",
    "plt.show()\n",
    "\n",
    "smoothed_proportions = proportions.rolling(window=100, min_periods=1).mean()\n",
    "smoothed_proportions.plot(kind='line')\n",
    "plt.xlabel('Manipulators (n)')\n",
    "plt.ylabel(\"Ratio (P/P')\")\n",
    "plt.ylim(-0.01, 1.01)\n",
    "plt.title('Smoothed')\n",
    "plt.show()"
   ]
  },
  {
   "cell_type": "markdown",
   "metadata": {},
   "source": [
    "### TARGETFRONT BINARY SEARCH\n",
    "- Places the target candidate to the first place position of n randomly chosen voters. \n",
    "- Does a binary search for smallest value of n that changes the result.  \n",
    "- Adjust i to change the number of iterations for each value of n. \n",
    "- Much faster to run. "
   ]
  },
  {
   "cell_type": "code",
   "execution_count": 29,
   "metadata": {},
   "outputs": [
    {
     "name": "stdout",
     "output_type": "stream",
     "text": [
      "SEARCHING: n = 2477, n_max = 2477, n_min = 0, i = 100, target = 0, \n",
      "SEARCHING: n = 1238, n_max = 2477, n_min = 0, i = 100, target = 0, \n",
      "SEARCHING: n = 619, n_max = 1238, n_min = 0, i = 100, target = 0, \n",
      "SEARCHING: n = 310, n_max = 619, n_min = 0, i = 100, target = 0, \n",
      "SEARCHING: n = 464, n_max = 619, n_min = 310, i = 100, target = 0, \n",
      "SEARCHING: n = 542, n_max = 619, n_min = 464, i = 100, target = 0, \n",
      "SEARCHING: n = 503, n_max = 542, n_min = 464, i = 100, target = 0, \n",
      "SEARCHING: n = 522, n_max = 542, n_min = 503, i = 100, target = 0, \n",
      "SEARCHING: n = 512, n_max = 522, n_min = 503, i = 100, target = 0, \n",
      "SEARCHING: n = 517, n_max = 522, n_min = 512, i = 100, target = 0, \n",
      "SEARCHING: n = 520, n_max = 522, n_min = 517, i = 100, target = 0, \n",
      "SEARCHING: n = 521, n_max = 522, n_min = 520, i = 100, target = 0, \n",
      "SEARCHING: n = 2477, n_max = 2477, n_min = 0, i = 100, target = 1, \n",
      "SEARCHING: n = 1238, n_max = 2477, n_min = 0, i = 100, target = 1, \n",
      "SEARCHING: n = 619, n_max = 1238, n_min = 0, i = 100, target = 1, \n",
      "SEARCHING: n = 310, n_max = 619, n_min = 0, i = 100, target = 1, \n",
      "SEARCHING: n = 464, n_max = 619, n_min = 310, i = 100, target = 1, \n",
      "SEARCHING: n = 387, n_max = 464, n_min = 310, i = 100, target = 1, \n",
      "SEARCHING: n = 426, n_max = 464, n_min = 387, i = 100, target = 1, \n",
      "SEARCHING: n = 406, n_max = 426, n_min = 387, i = 100, target = 1, \n",
      "SEARCHING: n = 416, n_max = 426, n_min = 406, i = 100, target = 1, \n",
      "SEARCHING: n = 421, n_max = 426, n_min = 416, i = 100, target = 1, \n",
      "SEARCHING: n = 424, n_max = 426, n_min = 421, i = 100, target = 1, \n",
      "SEARCHING: n = 425, n_max = 426, n_min = 424, i = 100, target = 1, \n",
      "SEARCHING: n = 2477, n_max = 2477, n_min = 0, i = 100, target = 2, \n",
      "SEARCHING: n = 1238, n_max = 2477, n_min = 0, i = 100, target = 2, \n",
      "SEARCHING: n = 619, n_max = 1238, n_min = 0, i = 100, target = 2, \n",
      "SEARCHING: n = 310, n_max = 619, n_min = 0, i = 100, target = 2, \n",
      "SEARCHING: n = 155, n_max = 310, n_min = 0, i = 100, target = 2, \n",
      "SEARCHING: n = 232, n_max = 310, n_min = 155, i = 100, target = 2, \n",
      "SEARCHING: n = 194, n_max = 232, n_min = 155, i = 100, target = 2, \n",
      "SEARCHING: n = 174, n_max = 194, n_min = 155, i = 100, target = 2, \n",
      "SEARCHING: n = 184, n_max = 194, n_min = 174, i = 100, target = 2, \n",
      "SEARCHING: n = 189, n_max = 194, n_min = 184, i = 100, target = 2, \n",
      "SEARCHING: n = 192, n_max = 194, n_min = 189, i = 100, target = 2, \n",
      "SEARCHING: n = 190, n_max = 192, n_min = 189, i = 100, target = 2, \n",
      "SEARCHING: n = 2477, n_max = 2477, n_min = 0, i = 100, target = 3, \n",
      "SEARCHING: n = 1238, n_max = 2477, n_min = 0, i = 100, target = 3, \n",
      "SEARCHING: n = 619, n_max = 1238, n_min = 0, i = 100, target = 3, \n",
      "SEARCHING: n = 310, n_max = 619, n_min = 0, i = 100, target = 3, \n",
      "SEARCHING: n = 155, n_max = 310, n_min = 0, i = 100, target = 3, \n",
      "SEARCHING: n = 78, n_max = 155, n_min = 0, i = 100, target = 3, \n",
      "SEARCHING: n = 116, n_max = 155, n_min = 78, i = 100, target = 3, \n",
      "SEARCHING: n = 97, n_max = 116, n_min = 78, i = 100, target = 3, \n",
      "SEARCHING: n = 106, n_max = 116, n_min = 97, i = 100, target = 3, \n",
      "SEARCHING: n = 111, n_max = 116, n_min = 106, i = 100, target = 3, \n",
      "SEARCHING: n = 114, n_max = 116, n_min = 111, i = 100, target = 3, \n",
      "SEARCHING: n = 112, n_max = 114, n_min = 111, i = 100, target = 3, \n",
      "SEARCHING: n = 2477, n_max = 2477, n_min = 0, i = 100, target = 4, \n",
      "SEARCHING: n = 1238, n_max = 2477, n_min = 0, i = 100, target = 4, \n",
      "SEARCHING: n = 619, n_max = 1238, n_min = 0, i = 100, target = 4, \n",
      "SEARCHING: n = 310, n_max = 619, n_min = 0, i = 100, target = 4, \n",
      "SEARCHING: n = 155, n_max = 310, n_min = 0, i = 100, target = 4, \n",
      "SEARCHING: n = 78, n_max = 155, n_min = 0, i = 100, target = 4, \n",
      "SEARCHING: n = 116, n_max = 155, n_min = 78, i = 100, target = 4, \n",
      "SEARCHING: n = 97, n_max = 116, n_min = 78, i = 100, target = 4, \n",
      "SEARCHING: n = 88, n_max = 97, n_min = 78, i = 100, target = 4, \n",
      "SEARCHING: n = 83, n_max = 88, n_min = 78, i = 100, target = 4, \n",
      "SEARCHING: n = 86, n_max = 88, n_min = 83, i = 100, target = 4, \n",
      "SEARCHING: n = 87, n_max = 88, n_min = 86, i = 100, target = 4, \n",
      "SEARCHING: n = 2477, n_max = 2477, n_min = 0, i = 100, target = 5, \n",
      "SEARCHING: n = 1238, n_max = 2477, n_min = 0, i = 100, target = 5, \n",
      "SEARCHING: n = 619, n_max = 1238, n_min = 0, i = 100, target = 5, \n",
      "SEARCHING: n = 928, n_max = 1238, n_min = 619, i = 100, target = 5, \n",
      "SEARCHING: n = 774, n_max = 928, n_min = 619, i = 100, target = 5, \n",
      "SEARCHING: n = 851, n_max = 928, n_min = 774, i = 100, target = 5, \n",
      "SEARCHING: n = 812, n_max = 851, n_min = 774, i = 100, target = 5, \n",
      "SEARCHING: n = 832, n_max = 851, n_min = 812, i = 100, target = 5, \n",
      "SEARCHING: n = 842, n_max = 851, n_min = 832, i = 100, target = 5, \n",
      "SEARCHING: n = 846, n_max = 851, n_min = 842, i = 100, target = 5, \n",
      "SEARCHING: n = 848, n_max = 851, n_min = 846, i = 100, target = 5, \n",
      "SEARCHING: n = 850, n_max = 851, n_min = 848, i = 100, target = 5, \n",
      "SEARCHING: n = 849, n_max = 850, n_min = 848, i = 100, target = 5, \n",
      "SEARCHING: n = 2477, n_max = 2477, n_min = 0, i = 100, target = 6, \n",
      "SEARCHING: n = 1238, n_max = 2477, n_min = 0, i = 100, target = 6, \n",
      "SEARCHING: n = 619, n_max = 1238, n_min = 0, i = 100, target = 6, \n",
      "SEARCHING: n = 928, n_max = 1238, n_min = 619, i = 100, target = 6, \n",
      "SEARCHING: n = 774, n_max = 928, n_min = 619, i = 100, target = 6, \n",
      "SEARCHING: n = 696, n_max = 774, n_min = 619, i = 100, target = 6, \n",
      "SEARCHING: n = 735, n_max = 774, n_min = 696, i = 100, target = 6, \n",
      "SEARCHING: n = 716, n_max = 735, n_min = 696, i = 100, target = 6, \n",
      "SEARCHING: n = 706, n_max = 716, n_min = 696, i = 100, target = 6, \n",
      "SEARCHING: n = 711, n_max = 716, n_min = 706, i = 100, target = 6, \n",
      "SEARCHING: n = 714, n_max = 716, n_min = 711, i = 100, target = 6, \n",
      "SEARCHING: n = 715, n_max = 716, n_min = 714, i = 100, target = 6, \n",
      "SEARCHING: n = 2477, n_max = 2477, n_min = 0, i = 100, target = 7, \n",
      "SEARCHING: n = 2477, n_max = 2477, n_min = 0, i = 100, target = 8, \n",
      "SEARCHING: n = 1238, n_max = 2477, n_min = 0, i = 100, target = 8, \n",
      "SEARCHING: n = 619, n_max = 1238, n_min = 0, i = 100, target = 8, \n",
      "SEARCHING: n = 928, n_max = 1238, n_min = 619, i = 100, target = 8, \n",
      "SEARCHING: n = 774, n_max = 928, n_min = 619, i = 100, target = 8, \n",
      "SEARCHING: n = 851, n_max = 928, n_min = 774, i = 100, target = 8, \n",
      "SEARCHING: n = 812, n_max = 851, n_min = 774, i = 100, target = 8, \n",
      "SEARCHING: n = 793, n_max = 812, n_min = 774, i = 100, target = 8, \n",
      "SEARCHING: n = 784, n_max = 793, n_min = 774, i = 100, target = 8, \n",
      "SEARCHING: n = 788, n_max = 793, n_min = 784, i = 100, target = 8, \n",
      "SEARCHING: n = 786, n_max = 788, n_min = 784, i = 100, target = 8, \n",
      "SEARCHING: n = 785, n_max = 786, n_min = 784, i = 100, target = 8, \n",
      "SEARCHING: n = 2477, n_max = 2477, n_min = 0, i = 100, target = 9, \n",
      "SEARCHING: n = 2477, n_max = 2477, n_min = 0, i = 100, target = 10, \n",
      "Results saved to results_targetfront_binary.csv\n"
     ]
    }
   ],
   "source": [
    "n = profile_length\n",
    "i = 100\n",
    "\n",
    "results_targetfront_binary, profile_targetfront_binary, n_targetfront_binary, target_targetfront_binary = targetfront_binary(original_profile, original_results, n, i)\n",
    "csv_file_path = 'results_targetfront_binary.csv'\n",
    "\n",
    "# # Write the results to the CSV file\n",
    "with open(csv_file_path, 'w', newline='') as file:\n",
    "    writer = csv.writer(file)\n",
    "    writer.writerow(['match', 'n', 'i', 'target'])\n",
    "    writer.writerows(results_targetfront_binary)\n",
    "\n",
    "print(\"Results saved to {}\".format(csv_file_path))"
   ]
  },
  {
   "cell_type": "code",
   "execution_count": 30,
   "metadata": {},
   "outputs": [
    {
     "name": "stdout",
     "output_type": "stream",
     "text": [
      "P': SMALLEST n: 88 TARGET: 4\n",
      "\n",
      "---ROUND 1---\n",
      "Tally: [240, 445, 401, 377, 408, 26, 94, 448, 38, 0, 0]\n",
      "Eliminated [9, 10]:\n",
      "\n",
      "---ROUND 2---\n",
      "Tally: [240, 445, 401, 377, 408, 26, 94, 448, 38, None, None]\n",
      "Eliminated [5]:\n",
      "\n",
      "---ROUND 3---\n",
      "Tally: [240, 449, 401, 386, 411, None, 96, 451, 41, None, None]\n",
      "Eliminated [8]:\n",
      "\n",
      "---ROUND 4---\n",
      "Tally: [246, 453, 407, 388, 421, None, 100, 459, None, None, None]\n",
      "Eliminated [6]:\n",
      "\n",
      "---ROUND 5---\n",
      "Tally: [254, 467, 419, 406, 439, None, None, 478, None, None, None]\n",
      "Eliminated [0]:\n",
      "\n",
      "---ROUND 6---\n",
      "Tally: [None, 523, 453, 448, 499, None, None, 529, None, None, None]\n",
      "Eliminated [3]:\n",
      "\n",
      "---ROUND 7---\n",
      "Tally: [None, 658, 517, None, 596, None, None, 622, None, None, None]\n",
      "Eliminated [2]:\n",
      "\n",
      "---ROUND 8---\n",
      "Tally: [None, 721, None, None, 722, None, None, 860, None, None, None]\n",
      "Eliminated [1]:\n",
      "\n",
      "---ROUND 9---\n",
      "Tally: [None, None, None, None, 1038, None, None, 1037, None, None, None]\n",
      "Eliminated [7]:\n",
      "\n",
      "---ROUND 10---\n",
      "Tally: [None, None, None, None, 1627, None, None, None, None, None, None]\n",
      "Eliminated [4]:\n",
      "\n",
      "Michael Behrendt wins with 1627 votes! \n",
      "\n"
     ]
    }
   ],
   "source": [
    "print(\"P': SMALLEST n: {} TARGET: {}\\n\".format(n_targetfront_binary, target_targetfront_binary))\n",
    "\n",
    "# Test the profile\n",
    "election_targetfront_binary = single_transferable_vote(profile_targetfront_binary, candidate, print_status=True)\n",
    "for result in election_targetfront_binary[0]:\n",
    "    print(\"{} wins with {} votes! \\n\".format(candidate[result + 1], election_targetfront_binary[1]))"
   ]
  },
  {
   "cell_type": "code",
   "execution_count": 31,
   "metadata": {},
   "outputs": [
    {
     "data": {
      "text/plain": [
       "<matplotlib.legend.Legend at 0x1d23396a9d0>"
      ]
     },
     "execution_count": 31,
     "metadata": {},
     "output_type": "execute_result"
    },
    {
     "data": {
      "image/png": "[encoded data removed]",
      "text/plain": [
       "<Figure size 640x480 with 1 Axes>"
      ]
     },
     "metadata": {},
     "output_type": "display_data"
    }
   ],
   "source": [
    "df = pd.read_csv('results_targetfront_binary.csv')\n",
    "\n",
    "proportions = df.groupby(['n', 'target'])['match'].mean().unstack()\n",
    "\n",
    "# plot a line for each 'target'\n",
    "plt.figure()\n",
    "for target in proportions.columns:\n",
    "    target_name = candidate[int(target)]\n",
    "    plt.plot(proportions.index, proportions[target], label=f' {target_name}')\n",
    "\n",
    "# Add labels and legend\n",
    "plt.xlabel('manipulators (n)')\n",
    "plt.ylabel(\"ratio\")\n",
    "plt.ylim(-0.01, 1.01)\n",
    "plt.legend(title='Targets')"
   ]
  },
  {
   "cell_type": "markdown",
   "metadata": {},
   "source": [
    "### TARGETFRONT BINARY SPECIFIC\n",
    "- Search the area around the smallest n found with higher i."
   ]
  },
  {
   "cell_type": "code",
   "execution_count": 36,
   "metadata": {},
   "outputs": [
    {
     "name": "stdout",
     "output_type": "stream",
     "text": [
      "SEARCHING: n = 88, n_max = 88, n_min = 0, i = 10000, target = 4, \n",
      "SEARCHING: n = 44, n_max = 88, n_min = 0, i = 10000, target = 4, \n",
      "SEARCHING: n = 66, n_max = 88, n_min = 44, i = 10000, target = 4, \n",
      "SEARCHING: n = 55, n_max = 66, n_min = 44, i = 10000, target = 4, \n",
      "SEARCHING: n = 60, n_max = 66, n_min = 55, i = 10000, target = 4, \n",
      "SEARCHING: n = 63, n_max = 66, n_min = 60, i = 10000, target = 4, \n",
      "SEARCHING: n = 62, n_max = 63, n_min = 60, i = 10000, target = 4, \n",
      "Results saved to results_targetfront_binary_specific.csv\n"
     ]
    }
   ],
   "source": [
    "n = 88\n",
    "i = 10000\n",
    "target = 4\n",
    "\n",
    "results_targetfront_binary_specific, profile_targetfront_binary_specific, n_targetfront_binary_specific, target_targetfront_binary_specific = targetfront_binary_specific(original_profile, original_results, n, i, target)\n",
    "csv_file_path = 'results_targetfront_binary_specific.csv'\n",
    "\n",
    "# # Write the results to the CSV file\n",
    "with open(csv_file_path, 'w', newline='') as file:\n",
    "    writer = csv.writer(file)\n",
    "    writer.writerow(['match', 'n', 'i', 'target'])\n",
    "    writer.writerows(results_targetfront_binary_specific)\n",
    "\n",
    "print(\"Results saved to {}\".format(csv_file_path))"
   ]
  },
  {
   "cell_type": "code",
   "execution_count": 37,
   "metadata": {},
   "outputs": [
    {
     "name": "stdout",
     "output_type": "stream",
     "text": [
      "P': SMALLEST n: 63 TARGET: 4\n",
      "\n",
      "---ROUND 1---\n",
      "Tally: [240, 438, 406, 379, 404, 27, 97, 448, 38, 0, 0]\n",
      "Eliminated [9, 10]:\n",
      "\n",
      "---ROUND 2---\n",
      "Tally: [240, 438, 406, 379, 404, 27, 97, 448, 38, None, None]\n",
      "Eliminated [5]:\n",
      "\n",
      "---ROUND 3---\n",
      "Tally: [240, 442, 407, 388, 407, None, 99, 451, 41, None, None]\n",
      "Eliminated [8]:\n",
      "\n",
      "---ROUND 4---\n",
      "Tally: [246, 446, 413, 390, 417, None, 103, 459, None, None, None]\n",
      "Eliminated [6]:\n",
      "\n",
      "---ROUND 5---\n",
      "Tally: [254, 460, 425, 410, 436, None, None, 478, None, None, None]\n",
      "Eliminated [0]:\n",
      "\n",
      "---ROUND 6---\n",
      "Tally: [None, 514, 459, 452, 498, None, None, 529, None, None, None]\n",
      "Eliminated [3]:\n",
      "\n",
      "---ROUND 7---\n",
      "Tally: [None, 651, 526, None, 595, None, None, 621, None, None, None]\n",
      "Eliminated [2]:\n",
      "\n",
      "---ROUND 8---\n",
      "Tally: [None, 715, None, None, 725, None, None, 863, None, None, None]\n",
      "Eliminated [1]:\n",
      "\n",
      "---ROUND 9---\n",
      "Tally: [None, None, None, None, 1039, None, None, 1036, None, None, None]\n",
      "Eliminated [7]:\n",
      "\n",
      "---ROUND 10---\n",
      "Tally: [None, None, None, None, 1621, None, None, None, None, None, None]\n",
      "Eliminated [4]:\n",
      "\n",
      "Michael Behrendt wins with 1621 votes! \n",
      "\n"
     ]
    }
   ],
   "source": [
    "print(\"P': SMALLEST n: {} TARGET: {}\\n\".format(n_targetfront_binary_specific, target_targetfront_binary_specific))\n",
    "\n",
    "# Test the profile\n",
    "election_targetfront_binary_specific = single_transferable_vote(profile_targetfront_binary_specific, candidate, print_status=True)\n",
    "for result in election_targetfront_binary_specific[0]:\n",
    "    print(\"{} wins with {} votes! \\n\".format(candidate[result + 1], election_targetfront_binary_specific[1]))"
   ]
  },
  {
   "cell_type": "code",
   "execution_count": 38,
   "metadata": {},
   "outputs": [
    {
     "data": {
      "text/plain": [
       "<matplotlib.legend.Legend at 0x1d233d721d0>"
      ]
     },
     "execution_count": 38,
     "metadata": {},
     "output_type": "execute_result"
    },
    {
     "data": {
      "image/png": "[encoded data removed]",
      "text/plain": [
       "<Figure size 640x480 with 1 Axes>"
      ]
     },
     "metadata": {},
     "output_type": "display_data"
    }
   ],
   "source": [
    "df = pd.read_csv('results_targetfront_binary_specific.csv')\n",
    "\n",
    "proportions = df.groupby(['n', 'target'])['match'].mean().unstack()\n",
    "\n",
    "# plot a line for each 'target'\n",
    "plt.figure()\n",
    "for target in proportions.columns:\n",
    "    target_name = candidate[int(target)]\n",
    "    plt.plot(proportions.index, proportions[target], label=f' {target_name}')\n",
    "\n",
    "# Add labels and legend\n",
    "plt.xlabel('manipulators (n)')\n",
    "plt.ylabel(\"ratio\")\n",
    "plt.ylim(0.999, 1.001)\n",
    "plt.legend(title='Targets')"
   ]
  },
  {
   "cell_type": "markdown",
   "metadata": {},
   "source": [
    "### TARGETBACK GRID SEARCH \n",
    "- Places the target candidate to the last place position of n randomly chosen voters. \n",
    "- Search across all values of n. \n",
    "- Adjust i to change the number of iterations for each value of n. \n",
    "- Takes a long time to run. "
   ]
  },
  {
   "cell_type": "code",
   "execution_count": null,
   "metadata": {},
   "outputs": [],
   "source": [
    "n = profile_length\n",
    "i = 10\n",
    "\n",
    "results_targetback_grid, profile_targetback_grid, n_targetback_grid, target_targetback_binary= targetback_grid(original_profile, original_results, n, i)\n",
    "csv_file_path = 'results_targetback_grid.csv'\n",
    "\n",
    "# # Write the results to the CSV file\n",
    "with open(csv_file_path, 'w', newline='') as file:\n",
    "    writer = csv.writer(file)\n",
    "    writer.writerow(['match', 'n', 'i', 'target'])\n",
    "    writer.writerows(results_targetback_grid)\n",
    "\n",
    "print(\"Results saved to {}\".format(csv_file_path))"
   ]
  },
  {
   "cell_type": "code",
   "execution_count": null,
   "metadata": {},
   "outputs": [],
   "source": [
    "print(\"P': SMALLEST n: {} TARGET: {}\\n\".format(n_targetback_grid, target_targetback_binary))\n",
    "\n",
    "# Test the profile\n",
    "election_targetback_grid = single_transferable_vote(profile_targetback_grid, candidate, print_status=True)\n",
    "for result in election_targetback_grid[0]:\n",
    "    print(\"{} wins with {} votes! \\n\".format(candidate[result + 1], election_targetback_grid[1]))"
   ]
  },
  {
   "cell_type": "code",
   "execution_count": null,
   "metadata": {},
   "outputs": [],
   "source": [
    "df = pd.read_csv('results_targetback_grid.csv')\n",
    "\n",
    "proportions = df.groupby(['n', 'target'])['match'].mean().unstack()\n",
    "\n",
    "# Plot a line for each 'target'\n",
    "for target in proportions.columns:\n",
    "    plt.plot(proportions.index, proportions[target], label=f'Target {target}')\n",
    "\n",
    "# Add labels and legend\n",
    "plt.xlabel('Number of preferences shuffled (n)')\n",
    "plt.ylabel(\"Proportion of True\")\n",
    "plt.ylim(0, 1.01)\n",
    "plt.legend(title='Targets')\n",
    "\n",
    "# Show the plot\n",
    "plt.show()\n",
    "\n",
    "smoothed_proportions = proportions.rolling(window=100, min_periods=1).mean()\n",
    "smoothed_proportions.plot(kind='line')\n",
    "plt.xlabel('Number of preferences shuffled (n)')\n",
    "plt.ylabel(\"Proportion (P = P')\")\n",
    "plt.ylim(0, 1.01)\n",
    "plt.title('Smoothed')\n",
    "plt.show()"
   ]
  },
  {
   "cell_type": "markdown",
   "metadata": {},
   "source": [
    "### TARGET BACK BINARY SEARCH\n",
    "- Places the target candidate to the last place position of n randomly chosen voters. \n",
    "- Does a binary search for smallest value of n that changes the result.  \n",
    "- Adjust i to change the number of iterations for each value of n. \n",
    "- Much faster the run. "
   ]
  },
  {
   "cell_type": "code",
   "execution_count": null,
   "metadata": {},
   "outputs": [],
   "source": [
    "n = profile_length\n",
    "i = 100\n",
    "\n",
    "results_targetback_binary, profile_targetback_binary, n_targetback_binary, target_targetback_binary = targetback_binary(original_profile, original_results, n, i)\n",
    "csv_file_path = 'results_targetback_binary.csv'\n",
    "\n",
    "# # Write the results to the CSV file\n",
    "with open(csv_file_path, 'w', newline='') as file:\n",
    "    writer = csv.writer(file)\n",
    "    writer.writerow(['match', 'n', 'i', 'target'])\n",
    "    writer.writerows(results_targetback_binary)\n",
    "\n",
    "print(\"Results saved to {}\".format(csv_file_path))"
   ]
  },
  {
   "cell_type": "code",
   "execution_count": null,
   "metadata": {},
   "outputs": [],
   "source": [
    "print(\"P': SMALLEST n: {} TARGET: {}\\n\".format(n_targetback_binary, target_targetback_binary))\n",
    "\n",
    "# Test the profile\n",
    "election_targetback_binary = single_transferable_vote(profile_targetback_binary, candidate, print_status=True)\n",
    "for result in election_targetback_binary[0]:\n",
    "    print(\"{} wins with {} votes! \\n\".format(candidate[result + 1], election_targetback_binary[1]))"
   ]
  },
  {
   "cell_type": "code",
   "execution_count": 36,
   "metadata": {},
   "outputs": [
    {
     "data": {
      "text/plain": [
       "<matplotlib.legend.Legend at 0x20409c3fdd0>"
      ]
     },
     "execution_count": 36,
     "metadata": {},
     "output_type": "execute_result"
    },
    {
     "data": {
      "image/png": "[encoded data removed]",
      "text/plain": [
       "<Figure size 640x480 with 1 Axes>"
      ]
     },
     "metadata": {},
     "output_type": "display_data"
    }
   ],
   "source": [
    "df = pd.read_csv('results_targetback_binary.csv')\n",
    "\n",
    "proportions = df.groupby(['n', 'target'])['match'].mean().unstack()\n",
    "\n",
    "# plot a line for each 'target'\n",
    "plt.figure()\n",
    "for target in proportions.columns:\n",
    "    target_name = candidate[int(target)]\n",
    "    plt.plot(proportions.index, proportions[target], label=f' {target_name}')\n",
    "\n",
    "# Add labels and legend\n",
    "plt.xlabel('Manipulators (n)')\n",
    "plt.ylabel(\"Ratio (P/P')\")\n",
    "plt.ylim(-0.01, 1.01)\n",
    "plt.legend(title='Targets')"
   ]
  }
 ],
 "metadata": {
  "kernelspec": {
   "display_name": ".venv",
   "language": "python",
   "name": "python3"
  },
  "language_info": {
   "codemirror_mode": {
    "name": "ipython",
    "version": 3
   },
   "file_extension": ".py",
   "mimetype": "text/x-python",
   "name": "python",
   "nbconvert_exporter": "python",
   "pygments_lexer": "ipython3",
   "version": "3.11.8"
  }
 },
 "nbformat": 4,
 "nbformat_minor": 2
}
